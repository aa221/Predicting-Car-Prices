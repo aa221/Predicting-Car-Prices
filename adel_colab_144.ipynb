{
  "nbformat": 4,
  "nbformat_minor": 0,
  "metadata": {
    "colab": {
      "provenance": []
    },
    "kernelspec": {
      "name": "python3",
      "display_name": "Python 3"
    },
    "language_info": {
      "name": "python"
    }
  },
  "cells": [
    {
      "cell_type": "code",
      "metadata": {
        "id": "RAGHoVfmvQSY"
      },
      "source": [
        "import pandas as pd \n",
        "import matplotlib.pyplot as plt\n",
        "import numpy as np\n",
        "from matplotlib.pyplot import figure\n",
        "import matplotlib\n",
        "from sklearn.neural_network import MLPClassifier\n",
        "from sklearn.model_selection import train_test_split\n",
        "from sklearn.model_selection import GridSearchCV\n",
        "from sklearn.neural_network import MLPRegressor\n",
        "from sklearn.ensemble import RandomForestRegressor\n",
        "\n",
        "from sklearn.neighbors import KNeighborsRegressor\n",
        "from sklearn.linear_model import LinearRegression\n",
        "from sklearn.ensemble import AdaBoostRegressor\n",
        "from sklearn.tree import DecisionTreeRegressor\n",
        "from sklearn.tree import DecisionTreeClassifier\n",
        "from sklearn import preprocessing\n",
        "from sklearn import metrics\n",
        "\n",
        "import scipy.stats\n",
        "import seaborn as sns\n",
        "import statsmodels.api as sm"
      ],
      "execution_count": null,
      "outputs": []
    },
    {
      "cell_type": "code",
      "metadata": {
        "colab": {
          "base_uri": "https://localhost:8080/"
        },
        "id": "uHVQ8RPty3Im",
        "outputId": "1bcf9c0b-a837-4f60-a8d3-4f3b0333c814"
      },
      "source": [
        "from google.colab import drive \n",
        "drive.mount('/content/gdrive')"
      ],
      "execution_count": null,
      "outputs": [
        {
          "output_type": "stream",
          "name": "stdout",
          "text": [
            "Mounted at /content/gdrive\n"
          ]
        }
      ]
    },
    {
      "cell_type": "code",
      "metadata": {
        "colab": {
          "base_uri": "https://localhost:8080/",
          "height": 687
        },
        "id": "yTXxI0JxyXIS",
        "outputId": "2f8e1225-e746-409e-8df5-b08633718f64"
      },
      "source": [
        "df= pd.read_csv(\"/content/gdrive/MyDrive/Copy of Dataset.csv\")\n",
        "\n",
        "## converting price to USD and round to nearest cent: \n",
        "\n",
        "df[\"price\"] = round(df[\"price\"]*0.0133500369,2) \n",
        "df\n"
      ],
      "execution_count": null,
      "outputs": [
        {
          "output_type": "execute_result",
          "data": {
            "text/plain": [
              "      Unnamed: 0    Id  year             brand  \\\n",
              "0              0     0  2016             Honda   \n",
              "1              1     1  2012            Nissan   \n",
              "2              2     2  2017            Toyota   \n",
              "3              3     3  2017     Mercedes-Benz   \n",
              "4              4     4  2012           Hyundai   \n",
              "...          ...   ...   ...               ...   \n",
              "1720        1720  1720  2015           Hyundai   \n",
              "1721        1721  1721  2011           Bentley   \n",
              "1722        1722  1722  2008  Mahindra-Renault   \n",
              "1723        1723  1723  1990          Mahindra   \n",
              "1724        1724  1724  2017           Hyundai   \n",
              "\n",
              "                                        full_model_name   model_name  \\\n",
              "0                                       Honda Brio S MT         Brio   \n",
              "1                                Nissan Sunny XV Diesel        Sunny   \n",
              "2                Toyota Fortuner 2.8 4x2 MT [2016-2020]     Fortuner   \n",
              "3     Mercedes-Benz E-Class E 220d Expression [2019-...      E-Class   \n",
              "4                     Hyundai Verna Fluidic 1.6 CRDi SX        Verna   \n",
              "...                                                 ...          ...   \n",
              "1720                                  Hyundai Eon Era +          Eon   \n",
              "1721                Bentley Continental Flying Spur W12  Continental   \n",
              "1722                 Mahindra-Renault Logan DLE 1.5 dci        Logan   \n",
              "1723                             Mahindra Jeep CJ 500 D         Jeep   \n",
              "1724                  Hyundai Creta SX Plus 1.6 AT CRDI        Creta   \n",
              "\n",
              "          price  distance_travelled(kms) fuel_type    city  ...  \\\n",
              "0       5673.77                   9680.0    Petrol  Mumbai  ...   \n",
              "1       4338.76                 119120.0    Diesel  Mumbai  ...   \n",
              "2      35377.60                  64593.0    Diesel   Thane  ...   \n",
              "3      56003.40                  25000.0    Diesel  Mumbai  ...   \n",
              "4       6341.27                  23800.0    Diesel  Mumbai  ...   \n",
              "...         ...                      ...       ...     ...  ...   \n",
              "1720    3871.51                  38000.0    Petrol    Pune  ...   \n",
              "1721  100125.28                  36000.0    Petrol    Pune  ...   \n",
              "1722    2469.76                 142522.0    Diesel    Pune  ...   \n",
              "1723    4338.76                  18581.0    Diesel    Pune  ...   \n",
              "1724   18623.30                  31028.0    Diesel    Pune  ...   \n",
              "\n",
              "      new and less used  inv_car_price  inv_car_dist  inv_car_age  inv_brand  \\\n",
              "0                     0   2.352941e-06      0.000103     0.200000   0.142857   \n",
              "1                     0   3.076923e-06      0.000008     0.111111   0.090909   \n",
              "2                     0   3.773585e-07      0.000015     0.250000   1.000000   \n",
              "3                     1   2.383790e-07      0.000040     0.250000   0.500000   \n",
              "4                     0   2.105263e-06      0.000042     0.111111   0.071429   \n",
              "...                 ...            ...           ...          ...        ...   \n",
              "1720                  0   3.448276e-06      0.000026     0.166667   0.071429   \n",
              "1721                  0   1.333333e-07      0.000028     0.100000   0.022727   \n",
              "1722                  0   5.405405e-06      0.000007     0.076923   0.041667   \n",
              "1723                  0   3.076923e-06      0.000054     0.032258   0.041667   \n",
              "1724                  0   7.168459e-07      0.000032     0.250000   0.071429   \n",
              "\n",
              "      std_invprice  std_invdistance_travelled  std_invrank   best_buy1  \\\n",
              "0         0.143417                   0.035730     0.132143  677.134239   \n",
              "1         0.188859                   0.002496     0.079545   37.501318   \n",
              "2         0.019416                   0.004978     1.000000   96.646020   \n",
              "3         0.010692                   0.013563     0.493750   71.604306   \n",
              "4         0.127871                   0.014269     0.059821  109.150857   \n",
              "...            ...                        ...          ...         ...   \n",
              "1720      0.212168                   0.008771     0.059821  111.327773   \n",
              "1721      0.004099                   0.009283     0.010511    0.399987   \n",
              "1722      0.335011                   0.002014     0.029687   20.026662   \n",
              "1723      0.188859                   0.018402     0.029687  103.172958   \n",
              "1724      0.040724                   0.010842     0.059821   26.412891   \n",
              "\n",
              "      best_buy2  \n",
              "0      0.000000  \n",
              "1      0.000000  \n",
              "2      0.000000  \n",
              "3     71.604306  \n",
              "4      0.000000  \n",
              "...         ...  \n",
              "1720   0.000000  \n",
              "1721   0.000000  \n",
              "1722   0.000000  \n",
              "1723   0.000000  \n",
              "1724   0.000000  \n",
              "\n",
              "[1725 rows x 23 columns]"
            ],
            "text/html": [
              "\n",
              "  <div id=\"df-3a44fb89-c0a3-4baa-a05c-2a736bc36646\">\n",
              "    <div class=\"colab-df-container\">\n",
              "      <div>\n",
              "<style scoped>\n",
              "    .dataframe tbody tr th:only-of-type {\n",
              "        vertical-align: middle;\n",
              "    }\n",
              "\n",
              "    .dataframe tbody tr th {\n",
              "        vertical-align: top;\n",
              "    }\n",
              "\n",
              "    .dataframe thead th {\n",
              "        text-align: right;\n",
              "    }\n",
              "</style>\n",
              "<table border=\"1\" class=\"dataframe\">\n",
              "  <thead>\n",
              "    <tr style=\"text-align: right;\">\n",
              "      <th></th>\n",
              "      <th>Unnamed: 0</th>\n",
              "      <th>Id</th>\n",
              "      <th>year</th>\n",
              "      <th>brand</th>\n",
              "      <th>full_model_name</th>\n",
              "      <th>model_name</th>\n",
              "      <th>price</th>\n",
              "      <th>distance_travelled(kms)</th>\n",
              "      <th>fuel_type</th>\n",
              "      <th>city</th>\n",
              "      <th>...</th>\n",
              "      <th>new and less used</th>\n",
              "      <th>inv_car_price</th>\n",
              "      <th>inv_car_dist</th>\n",
              "      <th>inv_car_age</th>\n",
              "      <th>inv_brand</th>\n",
              "      <th>std_invprice</th>\n",
              "      <th>std_invdistance_travelled</th>\n",
              "      <th>std_invrank</th>\n",
              "      <th>best_buy1</th>\n",
              "      <th>best_buy2</th>\n",
              "    </tr>\n",
              "  </thead>\n",
              "  <tbody>\n",
              "    <tr>\n",
              "      <th>0</th>\n",
              "      <td>0</td>\n",
              "      <td>0</td>\n",
              "      <td>2016</td>\n",
              "      <td>Honda</td>\n",
              "      <td>Honda Brio S MT</td>\n",
              "      <td>Brio</td>\n",
              "      <td>5673.77</td>\n",
              "      <td>9680.0</td>\n",
              "      <td>Petrol</td>\n",
              "      <td>Mumbai</td>\n",
              "      <td>...</td>\n",
              "      <td>0</td>\n",
              "      <td>2.352941e-06</td>\n",
              "      <td>0.000103</td>\n",
              "      <td>0.200000</td>\n",
              "      <td>0.142857</td>\n",
              "      <td>0.143417</td>\n",
              "      <td>0.035730</td>\n",
              "      <td>0.132143</td>\n",
              "      <td>677.134239</td>\n",
              "      <td>0.000000</td>\n",
              "    </tr>\n",
              "    <tr>\n",
              "      <th>1</th>\n",
              "      <td>1</td>\n",
              "      <td>1</td>\n",
              "      <td>2012</td>\n",
              "      <td>Nissan</td>\n",
              "      <td>Nissan Sunny XV Diesel</td>\n",
              "      <td>Sunny</td>\n",
              "      <td>4338.76</td>\n",
              "      <td>119120.0</td>\n",
              "      <td>Diesel</td>\n",
              "      <td>Mumbai</td>\n",
              "      <td>...</td>\n",
              "      <td>0</td>\n",
              "      <td>3.076923e-06</td>\n",
              "      <td>0.000008</td>\n",
              "      <td>0.111111</td>\n",
              "      <td>0.090909</td>\n",
              "      <td>0.188859</td>\n",
              "      <td>0.002496</td>\n",
              "      <td>0.079545</td>\n",
              "      <td>37.501318</td>\n",
              "      <td>0.000000</td>\n",
              "    </tr>\n",
              "    <tr>\n",
              "      <th>2</th>\n",
              "      <td>2</td>\n",
              "      <td>2</td>\n",
              "      <td>2017</td>\n",
              "      <td>Toyota</td>\n",
              "      <td>Toyota Fortuner 2.8 4x2 MT [2016-2020]</td>\n",
              "      <td>Fortuner</td>\n",
              "      <td>35377.60</td>\n",
              "      <td>64593.0</td>\n",
              "      <td>Diesel</td>\n",
              "      <td>Thane</td>\n",
              "      <td>...</td>\n",
              "      <td>0</td>\n",
              "      <td>3.773585e-07</td>\n",
              "      <td>0.000015</td>\n",
              "      <td>0.250000</td>\n",
              "      <td>1.000000</td>\n",
              "      <td>0.019416</td>\n",
              "      <td>0.004978</td>\n",
              "      <td>1.000000</td>\n",
              "      <td>96.646020</td>\n",
              "      <td>0.000000</td>\n",
              "    </tr>\n",
              "    <tr>\n",
              "      <th>3</th>\n",
              "      <td>3</td>\n",
              "      <td>3</td>\n",
              "      <td>2017</td>\n",
              "      <td>Mercedes-Benz</td>\n",
              "      <td>Mercedes-Benz E-Class E 220d Expression [2019-...</td>\n",
              "      <td>E-Class</td>\n",
              "      <td>56003.40</td>\n",
              "      <td>25000.0</td>\n",
              "      <td>Diesel</td>\n",
              "      <td>Mumbai</td>\n",
              "      <td>...</td>\n",
              "      <td>1</td>\n",
              "      <td>2.383790e-07</td>\n",
              "      <td>0.000040</td>\n",
              "      <td>0.250000</td>\n",
              "      <td>0.500000</td>\n",
              "      <td>0.010692</td>\n",
              "      <td>0.013563</td>\n",
              "      <td>0.493750</td>\n",
              "      <td>71.604306</td>\n",
              "      <td>71.604306</td>\n",
              "    </tr>\n",
              "    <tr>\n",
              "      <th>4</th>\n",
              "      <td>4</td>\n",
              "      <td>4</td>\n",
              "      <td>2012</td>\n",
              "      <td>Hyundai</td>\n",
              "      <td>Hyundai Verna Fluidic 1.6 CRDi SX</td>\n",
              "      <td>Verna</td>\n",
              "      <td>6341.27</td>\n",
              "      <td>23800.0</td>\n",
              "      <td>Diesel</td>\n",
              "      <td>Mumbai</td>\n",
              "      <td>...</td>\n",
              "      <td>0</td>\n",
              "      <td>2.105263e-06</td>\n",
              "      <td>0.000042</td>\n",
              "      <td>0.111111</td>\n",
              "      <td>0.071429</td>\n",
              "      <td>0.127871</td>\n",
              "      <td>0.014269</td>\n",
              "      <td>0.059821</td>\n",
              "      <td>109.150857</td>\n",
              "      <td>0.000000</td>\n",
              "    </tr>\n",
              "    <tr>\n",
              "      <th>...</th>\n",
              "      <td>...</td>\n",
              "      <td>...</td>\n",
              "      <td>...</td>\n",
              "      <td>...</td>\n",
              "      <td>...</td>\n",
              "      <td>...</td>\n",
              "      <td>...</td>\n",
              "      <td>...</td>\n",
              "      <td>...</td>\n",
              "      <td>...</td>\n",
              "      <td>...</td>\n",
              "      <td>...</td>\n",
              "      <td>...</td>\n",
              "      <td>...</td>\n",
              "      <td>...</td>\n",
              "      <td>...</td>\n",
              "      <td>...</td>\n",
              "      <td>...</td>\n",
              "      <td>...</td>\n",
              "      <td>...</td>\n",
              "      <td>...</td>\n",
              "    </tr>\n",
              "    <tr>\n",
              "      <th>1720</th>\n",
              "      <td>1720</td>\n",
              "      <td>1720</td>\n",
              "      <td>2015</td>\n",
              "      <td>Hyundai</td>\n",
              "      <td>Hyundai Eon Era +</td>\n",
              "      <td>Eon</td>\n",
              "      <td>3871.51</td>\n",
              "      <td>38000.0</td>\n",
              "      <td>Petrol</td>\n",
              "      <td>Pune</td>\n",
              "      <td>...</td>\n",
              "      <td>0</td>\n",
              "      <td>3.448276e-06</td>\n",
              "      <td>0.000026</td>\n",
              "      <td>0.166667</td>\n",
              "      <td>0.071429</td>\n",
              "      <td>0.212168</td>\n",
              "      <td>0.008771</td>\n",
              "      <td>0.059821</td>\n",
              "      <td>111.327773</td>\n",
              "      <td>0.000000</td>\n",
              "    </tr>\n",
              "    <tr>\n",
              "      <th>1721</th>\n",
              "      <td>1721</td>\n",
              "      <td>1721</td>\n",
              "      <td>2011</td>\n",
              "      <td>Bentley</td>\n",
              "      <td>Bentley Continental Flying Spur W12</td>\n",
              "      <td>Continental</td>\n",
              "      <td>100125.28</td>\n",
              "      <td>36000.0</td>\n",
              "      <td>Petrol</td>\n",
              "      <td>Pune</td>\n",
              "      <td>...</td>\n",
              "      <td>0</td>\n",
              "      <td>1.333333e-07</td>\n",
              "      <td>0.000028</td>\n",
              "      <td>0.100000</td>\n",
              "      <td>0.022727</td>\n",
              "      <td>0.004099</td>\n",
              "      <td>0.009283</td>\n",
              "      <td>0.010511</td>\n",
              "      <td>0.399987</td>\n",
              "      <td>0.000000</td>\n",
              "    </tr>\n",
              "    <tr>\n",
              "      <th>1722</th>\n",
              "      <td>1722</td>\n",
              "      <td>1722</td>\n",
              "      <td>2008</td>\n",
              "      <td>Mahindra-Renault</td>\n",
              "      <td>Mahindra-Renault Logan DLE 1.5 dci</td>\n",
              "      <td>Logan</td>\n",
              "      <td>2469.76</td>\n",
              "      <td>142522.0</td>\n",
              "      <td>Diesel</td>\n",
              "      <td>Pune</td>\n",
              "      <td>...</td>\n",
              "      <td>0</td>\n",
              "      <td>5.405405e-06</td>\n",
              "      <td>0.000007</td>\n",
              "      <td>0.076923</td>\n",
              "      <td>0.041667</td>\n",
              "      <td>0.335011</td>\n",
              "      <td>0.002014</td>\n",
              "      <td>0.029687</td>\n",
              "      <td>20.026662</td>\n",
              "      <td>0.000000</td>\n",
              "    </tr>\n",
              "    <tr>\n",
              "      <th>1723</th>\n",
              "      <td>1723</td>\n",
              "      <td>1723</td>\n",
              "      <td>1990</td>\n",
              "      <td>Mahindra</td>\n",
              "      <td>Mahindra Jeep CJ 500 D</td>\n",
              "      <td>Jeep</td>\n",
              "      <td>4338.76</td>\n",
              "      <td>18581.0</td>\n",
              "      <td>Diesel</td>\n",
              "      <td>Pune</td>\n",
              "      <td>...</td>\n",
              "      <td>0</td>\n",
              "      <td>3.076923e-06</td>\n",
              "      <td>0.000054</td>\n",
              "      <td>0.032258</td>\n",
              "      <td>0.041667</td>\n",
              "      <td>0.188859</td>\n",
              "      <td>0.018402</td>\n",
              "      <td>0.029687</td>\n",
              "      <td>103.172958</td>\n",
              "      <td>0.000000</td>\n",
              "    </tr>\n",
              "    <tr>\n",
              "      <th>1724</th>\n",
              "      <td>1724</td>\n",
              "      <td>1724</td>\n",
              "      <td>2017</td>\n",
              "      <td>Hyundai</td>\n",
              "      <td>Hyundai Creta SX Plus 1.6 AT CRDI</td>\n",
              "      <td>Creta</td>\n",
              "      <td>18623.30</td>\n",
              "      <td>31028.0</td>\n",
              "      <td>Diesel</td>\n",
              "      <td>Pune</td>\n",
              "      <td>...</td>\n",
              "      <td>0</td>\n",
              "      <td>7.168459e-07</td>\n",
              "      <td>0.000032</td>\n",
              "      <td>0.250000</td>\n",
              "      <td>0.071429</td>\n",
              "      <td>0.040724</td>\n",
              "      <td>0.010842</td>\n",
              "      <td>0.059821</td>\n",
              "      <td>26.412891</td>\n",
              "      <td>0.000000</td>\n",
              "    </tr>\n",
              "  </tbody>\n",
              "</table>\n",
              "<p>1725 rows × 23 columns</p>\n",
              "</div>\n",
              "      <button class=\"colab-df-convert\" onclick=\"convertToInteractive('df-3a44fb89-c0a3-4baa-a05c-2a736bc36646')\"\n",
              "              title=\"Convert this dataframe to an interactive table.\"\n",
              "              style=\"display:none;\">\n",
              "        \n",
              "  <svg xmlns=\"http://www.w3.org/2000/svg\" height=\"24px\"viewBox=\"0 0 24 24\"\n",
              "       width=\"24px\">\n",
              "    <path d=\"M0 0h24v24H0V0z\" fill=\"none\"/>\n",
              "    <path d=\"M18.56 5.44l.94 2.06.94-2.06 2.06-.94-2.06-.94-.94-2.06-.94 2.06-2.06.94zm-11 1L8.5 8.5l.94-2.06 2.06-.94-2.06-.94L8.5 2.5l-.94 2.06-2.06.94zm10 10l.94 2.06.94-2.06 2.06-.94-2.06-.94-.94-2.06-.94 2.06-2.06.94z\"/><path d=\"M17.41 7.96l-1.37-1.37c-.4-.4-.92-.59-1.43-.59-.52 0-1.04.2-1.43.59L10.3 9.45l-7.72 7.72c-.78.78-.78 2.05 0 2.83L4 21.41c.39.39.9.59 1.41.59.51 0 1.02-.2 1.41-.59l7.78-7.78 2.81-2.81c.8-.78.8-2.07 0-2.86zM5.41 20L4 18.59l7.72-7.72 1.47 1.35L5.41 20z\"/>\n",
              "  </svg>\n",
              "      </button>\n",
              "      \n",
              "  <style>\n",
              "    .colab-df-container {\n",
              "      display:flex;\n",
              "      flex-wrap:wrap;\n",
              "      gap: 12px;\n",
              "    }\n",
              "\n",
              "    .colab-df-convert {\n",
              "      background-color: #E8F0FE;\n",
              "      border: none;\n",
              "      border-radius: 50%;\n",
              "      cursor: pointer;\n",
              "      display: none;\n",
              "      fill: #1967D2;\n",
              "      height: 32px;\n",
              "      padding: 0 0 0 0;\n",
              "      width: 32px;\n",
              "    }\n",
              "\n",
              "    .colab-df-convert:hover {\n",
              "      background-color: #E2EBFA;\n",
              "      box-shadow: 0px 1px 2px rgba(60, 64, 67, 0.3), 0px 1px 3px 1px rgba(60, 64, 67, 0.15);\n",
              "      fill: #174EA6;\n",
              "    }\n",
              "\n",
              "    [theme=dark] .colab-df-convert {\n",
              "      background-color: #3B4455;\n",
              "      fill: #D2E3FC;\n",
              "    }\n",
              "\n",
              "    [theme=dark] .colab-df-convert:hover {\n",
              "      background-color: #434B5C;\n",
              "      box-shadow: 0px 1px 3px 1px rgba(0, 0, 0, 0.15);\n",
              "      filter: drop-shadow(0px 1px 2px rgba(0, 0, 0, 0.3));\n",
              "      fill: #FFFFFF;\n",
              "    }\n",
              "  </style>\n",
              "\n",
              "      <script>\n",
              "        const buttonEl =\n",
              "          document.querySelector('#df-3a44fb89-c0a3-4baa-a05c-2a736bc36646 button.colab-df-convert');\n",
              "        buttonEl.style.display =\n",
              "          google.colab.kernel.accessAllowed ? 'block' : 'none';\n",
              "\n",
              "        async function convertToInteractive(key) {\n",
              "          const element = document.querySelector('#df-3a44fb89-c0a3-4baa-a05c-2a736bc36646');\n",
              "          const dataTable =\n",
              "            await google.colab.kernel.invokeFunction('convertToInteractive',\n",
              "                                                     [key], {});\n",
              "          if (!dataTable) return;\n",
              "\n",
              "          const docLinkHtml = 'Like what you see? Visit the ' +\n",
              "            '<a target=\"_blank\" href=https://colab.research.google.com/notebooks/data_table.ipynb>data table notebook</a>'\n",
              "            + ' to learn more about interactive tables.';\n",
              "          element.innerHTML = '';\n",
              "          dataTable['output_type'] = 'display_data';\n",
              "          await google.colab.output.renderOutput(dataTable, element);\n",
              "          const docLink = document.createElement('div');\n",
              "          docLink.innerHTML = docLinkHtml;\n",
              "          element.appendChild(docLink);\n",
              "        }\n",
              "      </script>\n",
              "    </div>\n",
              "  </div>\n",
              "  "
            ]
          },
          "metadata": {},
          "execution_count": 5
        }
      ]
    },
    {
      "cell_type": "markdown",
      "metadata": {
        "id": "MrQvEo1C3IHG"
      },
      "source": [
        "Below are visualizations for different features, here we are conducting EDA"
      ]
    },
    {
      "cell_type": "code",
      "metadata": {
        "colab": {
          "base_uri": "https://localhost:8080/",
          "height": 282
        },
        "id": "06zx-AvH3jGa",
        "outputId": "656b6944-a3a2-4a06-937f-7a8220e7c01b"
      },
      "source": [
        "##Fuel type vs average price of car \n",
        "\n",
        "\n",
        "fuel_price = df.groupby(\"fuel_type\").agg(np.mean).reset_index()[[\"fuel_type\",\"price\"]]\n",
        "\n",
        "plt.bar(fuel_price[\"fuel_type\"],fuel_price[\"price\"])"
      ],
      "execution_count": null,
      "outputs": [
        {
          "output_type": "execute_result",
          "data": {
            "text/plain": [
              "<BarContainer object of 5 artists>"
            ]
          },
          "metadata": {},
          "execution_count": 6
        },
        {
          "output_type": "display_data",
          "data": {
            "text/plain": [
              "<Figure size 432x288 with 1 Axes>"
            ],
            "image/png": "[encoded data removed]"
          },
          "metadata": {
            "needs_background": "light"
          }
        }
      ]
    },
    {
      "cell_type": "code",
      "metadata": {
        "colab": {
          "base_uri": "https://localhost:8080/",
          "height": 619
        },
        "id": "dvh4RyVS5GmA",
        "outputId": "74c64753-29b8-4f1b-de9d-7eb57003de51"
      },
      "source": [
        "##brand of car vs price of car only top 10 highest and top 10 lowest pricing shown-- as there are too many rows\n",
        "\n",
        "#This is top 10 highest average priced cars \n",
        "brand_price_highest = df.groupby(\"brand\").agg(np.mean).reset_index()[[\"brand\",\"price\"]].sort_values(\"price\",ascending=False)[:11]\n",
        "\n",
        "plt.bar(brand_price_highest[\"brand\"],brand_price_highest[\"price\"])\n",
        "fig = matplotlib.pyplot.gcf()\n",
        "fig.set_size_inches(18.5, 10.5)"
      ],
      "execution_count": null,
      "outputs": [
        {
          "output_type": "display_data",
          "data": {
            "text/plain": [
              "<Figure size 1332x756 with 1 Axes>"
            ],
            "image/png": "[encoded data removed]"
          },
          "metadata": {
            "needs_background": "light"
          }
        }
      ]
    },
    {
      "cell_type": "code",
      "metadata": {
        "colab": {
          "base_uri": "https://localhost:8080/",
          "height": 619
        },
        "id": "I5ExHvfu89Yo",
        "outputId": "2de2de9f-9c89-4c10-a326-2b880699e6c1"
      },
      "source": [
        "##Below are the lowest priced cars \n",
        "\n",
        "brand_price_lowest = df.groupby(\"brand\").agg(np.mean).reset_index()[[\"brand\",\"price\"]].sort_values(\"price\",ascending=True)[:11]\n",
        "\n",
        "plt.bar(brand_price_lowest[\"brand\"],brand_price_lowest[\"price\"])\n",
        "fig = matplotlib.pyplot.gcf()\n",
        "fig.set_size_inches(18.5, 10.5)"
      ],
      "execution_count": null,
      "outputs": [
        {
          "output_type": "display_data",
          "data": {
            "text/plain": [
              "<Figure size 1332x756 with 1 Axes>"
            ],
            "image/png": "[encoded data removed]"
          },
          "metadata": {
            "needs_background": "light"
          }
        }
      ]
    },
    {
      "cell_type": "code",
      "metadata": {
        "colab": {
          "base_uri": "https://localhost:8080/",
          "height": 619
        },
        "id": "-tmwegZP9Zyw",
        "outputId": "40a31676-b14e-4fbe-b368-1c50e9a0a5fd"
      },
      "source": [
        "#Next we check the average sale price per city \n",
        "\n",
        "\n",
        "city_price = df.groupby(\"city\").agg(np.mean).reset_index()[[\"city\",\"price\"]]\n",
        "plt.bar(city_price[\"city\"],city_price[\"price\"])\n",
        "fig = matplotlib.pyplot.gcf()\n",
        "fig.set_size_inches(18.5, 10.5)"
      ],
      "execution_count": null,
      "outputs": [
        {
          "output_type": "display_data",
          "data": {
            "text/plain": [
              "<Figure size 1332x756 with 1 Axes>"
            ],
            "image/png": "[encoded data removed]"
          },
          "metadata": {
            "needs_background": "light"
          }
        }
      ]
    },
    {
      "cell_type": "code",
      "metadata": {
        "colab": {
          "base_uri": "https://localhost:8080/",
          "height": 282
        },
        "id": "_yJ3jltkAU-z",
        "outputId": "de6ecd90-9fbe-470b-b874-f4a3cd87c456"
      },
      "source": [
        "##Next we see if there is a correlation between the price and age of a car \n",
        "\n",
        "\n",
        "price_age = df[[\"price\",\"car_age\"]].groupby(\"car_age\").agg(np.mean).reset_index()\n",
        "plt.plot(price_age[\"car_age\"],price_age[\"price\"])"
      ],
      "execution_count": null,
      "outputs": [
        {
          "output_type": "execute_result",
          "data": {
            "text/plain": [
              "[<matplotlib.lines.Line2D at 0x7fb893586050>]"
            ]
          },
          "metadata": {},
          "execution_count": 10
        },
        {
          "output_type": "display_data",
          "data": {
            "text/plain": [
              "<Figure size 432x288 with 1 Axes>"
            ],
            "image/png": "[encoded data removed]"
          },
          "metadata": {
            "needs_background": "light"
          }
        }
      ]
    },
    {
      "cell_type": "code",
      "metadata": {
        "colab": {
          "base_uri": "https://localhost:8080/",
          "height": 619
        },
        "id": "vc87cRFPBoSV",
        "outputId": "2dabbb8e-20ce-4237-d585-97000119856f"
      },
      "source": [
        "##Distance traveled vs price of the car\n",
        "\n",
        "price_distance = df[[\"price\",\"distance_travelled(kms)\"]]\n",
        "plt.scatter(price_distance[\"distance_travelled(kms)\"],price_distance[\"price\"])\n",
        "fig = matplotlib.pyplot.gcf()\n",
        "fig.set_size_inches(18.5, 10.5)\n"
      ],
      "execution_count": null,
      "outputs": [
        {
          "output_type": "display_data",
          "data": {
            "text/plain": [
              "<Figure size 1332x756 with 1 Axes>"
            ],
            "image/png": "[encoded data removed]"
          },
          "metadata": {
            "needs_background": "light"
          }
        }
      ]
    },
    {
      "cell_type": "code",
      "metadata": {
        "id": "sRBjFEv5Ciii",
        "colab": {
          "base_uri": "https://localhost:8080/",
          "height": 282
        },
        "outputId": "122be5eb-c8b5-43b9-e618-f2a06d14b88b"
      },
      "source": [
        "## New/less used vs average price \n",
        "price_new = df[[\"price\",\"new and less used\"]]\n",
        "grouped = price_new.groupby(\"new and less used\").agg(np.mean).reset_index()\n",
        "plt.bar(grouped[\"new and less used\"],grouped[\"price\"])"
      ],
      "execution_count": null,
      "outputs": [
        {
          "output_type": "execute_result",
          "data": {
            "text/plain": [
              "<BarContainer object of 2 artists>"
            ]
          },
          "metadata": {},
          "execution_count": 12
        },
        {
          "output_type": "display_data",
          "data": {
            "text/plain": [
              "<Figure size 432x288 with 1 Axes>"
            ],
            "image/png": "[encoded data removed]"
          },
          "metadata": {
            "needs_background": "light"
          }
        }
      ]
    },
    {
      "cell_type": "code",
      "metadata": {
        "colab": {
          "base_uri": "https://localhost:8080/",
          "height": 282
        },
        "id": "EAiuNGugA7e_",
        "outputId": "271a4a57-de74-4fc9-a663-2a8275fe4317"
      },
      "source": [
        "## year of car  vs average price \n",
        "price_year = df[[\"price\",\"year\"]]\n",
        "grouped_year = price_year.groupby(\"year\").agg(np.mean).reset_index()\n",
        "plt.bar(grouped_year[\"year\"],grouped_year[\"price\"])"
      ],
      "execution_count": null,
      "outputs": [
        {
          "output_type": "execute_result",
          "data": {
            "text/plain": [
              "<BarContainer object of 19 artists>"
            ]
          },
          "metadata": {},
          "execution_count": 13
        },
        {
          "output_type": "display_data",
          "data": {
            "text/plain": [
              "<Figure size 432x288 with 1 Axes>"
            ],
            "image/png": "[encoded data removed]"
          },
          "metadata": {
            "needs_background": "light"
          }
        }
      ]
    },
    {
      "cell_type": "code",
      "metadata": {
        "colab": {
          "base_uri": "https://localhost:8080/",
          "height": 1000
        },
        "id": "MeeNOeadB9Nq",
        "outputId": "ade2b79a-9c6b-47df-8c31-5e143c230fe6"
      },
      "source": [
        "brand_box = df[[\"price\",\"brand\"]]\n",
        "brand_box.boxplot(by=\"brand\")\n",
        "plt.ylim(0, 200000)\n",
        "fig = matplotlib.pyplot.gcf()\n",
        "fig.set_size_inches(40, 30)"
      ],
      "execution_count": null,
      "outputs": [
        {
          "output_type": "stream",
          "name": "stderr",
          "text": [
            "/usr/local/lib/python3.7/dist-packages/matplotlib/cbook/__init__.py:1376: VisibleDeprecationWarning: Creating an ndarray from ragged nested sequences (which is a list-or-tuple of lists-or-tuples-or ndarrays with different lengths or shapes) is deprecated. If you meant to do this, you must specify 'dtype=object' when creating the ndarray.\n",
            "  X = np.atleast_1d(X.T if isinstance(X, np.ndarray) else np.asarray(X))\n"
          ]
        },
        {
          "output_type": "display_data",
          "data": {
            "text/plain": [
              "<Figure size 2880x2160 with 1 Axes>"
            ],
            "image/png": "[encoded data removed]"
          },
          "metadata": {
            "needs_background": "light"
          }
        }
      ]
    },
    {
      "cell_type": "code",
      "metadata": {
        "colab": {
          "base_uri": "https://localhost:8080/",
          "height": 419
        },
        "id": "-Fpsdh21B-rU",
        "outputId": "1f474a75-c1ed-42b2-92de-596e3ecbf95c"
      },
      "source": [
        "brand_box.sort_values(by=\"price\",ascending=False)"
      ],
      "execution_count": null,
      "outputs": [
        {
          "output_type": "execute_result",
          "data": {
            "text/plain": [
              "          price          brand\n",
              "376   196245.54     Land Rover\n",
              "377   193575.54         Toyota\n",
              "806   186900.52  Mercedes-Benz\n",
              "1537  173550.48  Mercedes-Benz\n",
              "68    166875.46    Lamborghini\n",
              "...         ...            ...\n",
              "965     1268.25           Tata\n",
              "1252    1068.00           Tata\n",
              "1006    1068.00           Tata\n",
              "281      867.75           Tata\n",
              "272      834.38  Maruti Suzuki\n",
              "\n",
              "[1725 rows x 2 columns]"
            ],
            "text/html": [
              "\n",
              "  <div id=\"df-ce8dab06-a13b-40a1-b3db-ad0dd144d850\">\n",
              "    <div class=\"colab-df-container\">\n",
              "      <div>\n",
              "<style scoped>\n",
              "    .dataframe tbody tr th:only-of-type {\n",
              "        vertical-align: middle;\n",
              "    }\n",
              "\n",
              "    .dataframe tbody tr th {\n",
              "        vertical-align: top;\n",
              "    }\n",
              "\n",
              "    .dataframe thead th {\n",
              "        text-align: right;\n",
              "    }\n",
              "</style>\n",
              "<table border=\"1\" class=\"dataframe\">\n",
              "  <thead>\n",
              "    <tr style=\"text-align: right;\">\n",
              "      <th></th>\n",
              "      <th>price</th>\n",
              "      <th>brand</th>\n",
              "    </tr>\n",
              "  </thead>\n",
              "  <tbody>\n",
              "    <tr>\n",
              "      <th>376</th>\n",
              "      <td>196245.54</td>\n",
              "      <td>Land Rover</td>\n",
              "    </tr>\n",
              "    <tr>\n",
              "      <th>377</th>\n",
              "      <td>193575.54</td>\n",
              "      <td>Toyota</td>\n",
              "    </tr>\n",
              "    <tr>\n",
              "      <th>806</th>\n",
              "      <td>186900.52</td>\n",
              "      <td>Mercedes-Benz</td>\n",
              "    </tr>\n",
              "    <tr>\n",
              "      <th>1537</th>\n",
              "      <td>173550.48</td>\n",
              "      <td>Mercedes-Benz</td>\n",
              "    </tr>\n",
              "    <tr>\n",
              "      <th>68</th>\n",
              "      <td>166875.46</td>\n",
              "      <td>Lamborghini</td>\n",
              "    </tr>\n",
              "    <tr>\n",
              "      <th>...</th>\n",
              "      <td>...</td>\n",
              "      <td>...</td>\n",
              "    </tr>\n",
              "    <tr>\n",
              "      <th>965</th>\n",
              "      <td>1268.25</td>\n",
              "      <td>Tata</td>\n",
              "    </tr>\n",
              "    <tr>\n",
              "      <th>1252</th>\n",
              "      <td>1068.00</td>\n",
              "      <td>Tata</td>\n",
              "    </tr>\n",
              "    <tr>\n",
              "      <th>1006</th>\n",
              "      <td>1068.00</td>\n",
              "      <td>Tata</td>\n",
              "    </tr>\n",
              "    <tr>\n",
              "      <th>281</th>\n",
              "      <td>867.75</td>\n",
              "      <td>Tata</td>\n",
              "    </tr>\n",
              "    <tr>\n",
              "      <th>272</th>\n",
              "      <td>834.38</td>\n",
              "      <td>Maruti Suzuki</td>\n",
              "    </tr>\n",
              "  </tbody>\n",
              "</table>\n",
              "<p>1725 rows × 2 columns</p>\n",
              "</div>\n",
              "      <button class=\"colab-df-convert\" onclick=\"convertToInteractive('df-ce8dab06-a13b-40a1-b3db-ad0dd144d850')\"\n",
              "              title=\"Convert this dataframe to an interactive table.\"\n",
              "              style=\"display:none;\">\n",
              "        \n",
              "  <svg xmlns=\"http://www.w3.org/2000/svg\" height=\"24px\"viewBox=\"0 0 24 24\"\n",
              "       width=\"24px\">\n",
              "    <path d=\"M0 0h24v24H0V0z\" fill=\"none\"/>\n",
              "    <path d=\"M18.56 5.44l.94 2.06.94-2.06 2.06-.94-2.06-.94-.94-2.06-.94 2.06-2.06.94zm-11 1L8.5 8.5l.94-2.06 2.06-.94-2.06-.94L8.5 2.5l-.94 2.06-2.06.94zm10 10l.94 2.06.94-2.06 2.06-.94-2.06-.94-.94-2.06-.94 2.06-2.06.94z\"/><path d=\"M17.41 7.96l-1.37-1.37c-.4-.4-.92-.59-1.43-.59-.52 0-1.04.2-1.43.59L10.3 9.45l-7.72 7.72c-.78.78-.78 2.05 0 2.83L4 21.41c.39.39.9.59 1.41.59.51 0 1.02-.2 1.41-.59l7.78-7.78 2.81-2.81c.8-.78.8-2.07 0-2.86zM5.41 20L4 18.59l7.72-7.72 1.47 1.35L5.41 20z\"/>\n",
              "  </svg>\n",
              "      </button>\n",
              "      \n",
              "  <style>\n",
              "    .colab-df-container {\n",
              "      display:flex;\n",
              "      flex-wrap:wrap;\n",
              "      gap: 12px;\n",
              "    }\n",
              "\n",
              "    .colab-df-convert {\n",
              "      background-color: #E8F0FE;\n",
              "      border: none;\n",
              "      border-radius: 50%;\n",
              "      cursor: pointer;\n",
              "      display: none;\n",
              "      fill: #1967D2;\n",
              "      height: 32px;\n",
              "      padding: 0 0 0 0;\n",
              "      width: 32px;\n",
              "    }\n",
              "\n",
              "    .colab-df-convert:hover {\n",
              "      background-color: #E2EBFA;\n",
              "      box-shadow: 0px 1px 2px rgba(60, 64, 67, 0.3), 0px 1px 3px 1px rgba(60, 64, 67, 0.15);\n",
              "      fill: #174EA6;\n",
              "    }\n",
              "\n",
              "    [theme=dark] .colab-df-convert {\n",
              "      background-color: #3B4455;\n",
              "      fill: #D2E3FC;\n",
              "    }\n",
              "\n",
              "    [theme=dark] .colab-df-convert:hover {\n",
              "      background-color: #434B5C;\n",
              "      box-shadow: 0px 1px 3px 1px rgba(0, 0, 0, 0.15);\n",
              "      filter: drop-shadow(0px 1px 2px rgba(0, 0, 0, 0.3));\n",
              "      fill: #FFFFFF;\n",
              "    }\n",
              "  </style>\n",
              "\n",
              "      <script>\n",
              "        const buttonEl =\n",
              "          document.querySelector('#df-ce8dab06-a13b-40a1-b3db-ad0dd144d850 button.colab-df-convert');\n",
              "        buttonEl.style.display =\n",
              "          google.colab.kernel.accessAllowed ? 'block' : 'none';\n",
              "\n",
              "        async function convertToInteractive(key) {\n",
              "          const element = document.querySelector('#df-ce8dab06-a13b-40a1-b3db-ad0dd144d850');\n",
              "          const dataTable =\n",
              "            await google.colab.kernel.invokeFunction('convertToInteractive',\n",
              "                                                     [key], {});\n",
              "          if (!dataTable) return;\n",
              "\n",
              "          const docLinkHtml = 'Like what you see? Visit the ' +\n",
              "            '<a target=\"_blank\" href=https://colab.research.google.com/notebooks/data_table.ipynb>data table notebook</a>'\n",
              "            + ' to learn more about interactive tables.';\n",
              "          element.innerHTML = '';\n",
              "          dataTable['output_type'] = 'display_data';\n",
              "          await google.colab.output.renderOutput(dataTable, element);\n",
              "          const docLink = document.createElement('div');\n",
              "          docLink.innerHTML = docLinkHtml;\n",
              "          element.appendChild(docLink);\n",
              "        }\n",
              "      </script>\n",
              "    </div>\n",
              "  </div>\n",
              "  "
            ]
          },
          "metadata": {},
          "execution_count": 15
        }
      ]
    },
    {
      "cell_type": "code",
      "metadata": {
        "colab": {
          "base_uri": "https://localhost:8080/",
          "height": 619
        },
        "id": "UalOIvJtDekY",
        "outputId": "4c1b4888-97a2-4f61-e7eb-d543759ff9ab"
      },
      "source": [
        "## Car distance travelled divided by car age --> Car use per year \n",
        "\n",
        "\n",
        "df[\"car_dist_per_year\"] = df[\"distance_travelled(kms)\"]/df[\"car_age\"]\n",
        "distratio_price = df[[\"price\",\"car_dist_per_year\"]]\n",
        "df=df.replace([np.inf, -np.inf], 0)\n",
        "plt.scatter(distratio_price[\"car_dist_per_year\"],distratio_price[\"price\"])\n",
        "fig = matplotlib.pyplot.gcf()\n",
        "fig.set_size_inches(18.5, 10.5)"
      ],
      "execution_count": null,
      "outputs": [
        {
          "output_type": "display_data",
          "data": {
            "text/plain": [
              "<Figure size 1332x756 with 1 Axes>"
            ],
            "image/png": "[encoded data removed]"
          },
          "metadata": {
            "needs_background": "light"
          }
        }
      ]
    },
    {
      "cell_type": "code",
      "metadata": {
        "id": "zA-OlXXmFGh_"
      },
      "source": [
        "## Price of the car based on how old the car was when they purchased it (model year )"
      ],
      "execution_count": null,
      "outputs": []
    },
    {
      "cell_type": "code",
      "metadata": {
        "colab": {
          "base_uri": "https://localhost:8080/"
        },
        "id": "Q7BOp022Q4u9",
        "outputId": "57885421-fa15-4ec0-c5a7-01fb834becc7"
      },
      "source": [
        "max(df[\"year\"])"
      ],
      "execution_count": null,
      "outputs": [
        {
          "output_type": "execute_result",
          "data": {
            "text/plain": [
              "2021"
            ]
          },
          "metadata": {},
          "execution_count": 18
        }
      ]
    },
    {
      "cell_type": "code",
      "metadata": {
        "colab": {
          "base_uri": "https://localhost:8080/",
          "height": 619
        },
        "id": "0OAy4mxrRcSa",
        "outputId": "bf59ef00-a543-4bac-d216-0901491a7a2e"
      },
      "source": [
        "##Taking the top 20 most common model names.\n",
        "sizing = df.groupby(\"model_name\").size().sort_values(ascending=False)\n",
        "model_names = sizing[:20].index\n",
        "capturing = df[df[\"model_name\"].isin(model_names)]\n",
        "average_model_price = capturing.groupby(\"model_name\").agg(np.mean).reset_index()[[\"model_name\",\"price\"]]\n",
        "plt.bar(average_model_price[\"model_name\"],average_model_price[\"price\"])\n",
        "fig = matplotlib.pyplot.gcf()\n",
        "fig.set_size_inches(18.5, 10.5)"
      ],
      "execution_count": null,
      "outputs": [
        {
          "output_type": "display_data",
          "data": {
            "text/plain": [
              "<Figure size 1332x756 with 1 Axes>"
            ],
            "image/png": "[encoded data removed]"
          },
          "metadata": {
            "needs_background": "light"
          }
        }
      ]
    },
    {
      "cell_type": "code",
      "metadata": {
        "id": "lpbbOdNb0uZ5"
      },
      "source": [
        "## Assign each fuel type a different integer. \n",
        "\n",
        "def mapping(column):\n",
        "  empty = []\n",
        "  for i in column: \n",
        "    if i==\"Petrol\":\n",
        "      empty.append(1)\n",
        "    elif i==\"Diesel\":\n",
        "      empty.append(0)\n",
        "    elif i ==\"Petrol + 1\":\n",
        "      empty.append(2)\n",
        "\n",
        "    elif i==\"CNG + 1\":\n",
        "      empty.append(3)\n",
        "\n",
        "    else:\n",
        "      empty.append(4)\n",
        "\n",
        "  return empty\n",
        "\n",
        "\n",
        "df[\"fuel_map\"] = mapping(df[\"fuel_type\"])"
      ],
      "execution_count": null,
      "outputs": []
    },
    {
      "cell_type": "code",
      "metadata": {
        "id": "SjfpgjDsTOW-"
      },
      "source": [
        "filtered = df[df[\"price\"]<80001]\n",
        "features_matrix = filtered[[\"year\",\"distance_travelled(kms)\",\"fuel_map\",\"car_age\",\"car_dist_per_year\"]]\n",
        "pricing_to_predict = list(round(i,0) for i in filtered[\"price\"])\n"
      ],
      "execution_count": null,
      "outputs": []
    },
    {
      "cell_type": "code",
      "metadata": {
        "colab": {
          "base_uri": "https://localhost:8080/",
          "height": 300
        },
        "id": "mChkCiW82Xjc",
        "outputId": "78ea9894-1d26-4177-c804-8d52968a2ed2"
      },
      "source": [
        "##MLP trial \n",
        "X_train, X_test, y_train, y_test = train_test_split(features_matrix, pricing_to_predict, test_size=0.33, random_state=24)\n",
        "clf = MLPClassifier(solver='adam',activation=\"relu\")\n",
        "clf.fit(X_train,y_train)\n",
        "predictions  = clf.predict(X_test)\n",
        "\n",
        "residuals = y_test-predictions \n",
        "plt.scatter(y_test,residuals)\n",
        "plt.xlabel('Price of Car ')\n",
        "plt.ylabel('Residual')"
      ],
      "execution_count": null,
      "outputs": [
        {
          "output_type": "execute_result",
          "data": {
            "text/plain": [
              "Text(0, 0.5, 'Residual')"
            ]
          },
          "metadata": {},
          "execution_count": 22
        },
        {
          "output_type": "display_data",
          "data": {
            "text/plain": [
              "<Figure size 432x288 with 1 Axes>"
            ],
            "image/png": "[encoded data removed]"
          },
          "metadata": {
            "needs_background": "light"
          }
        }
      ]
    },
    {
      "cell_type": "code",
      "metadata": {
        "colab": {
          "base_uri": "https://localhost:8080/"
        },
        "id": "tNMwyQU_3U57",
        "outputId": "9365652e-c180-4cea-9079-12d7527c4bf6"
      },
      "source": [
        "##Define the prediction to be accurate if you are within 3000 dollars of the true price \n",
        "\n",
        "def accuracy (prediction_column,truth_column):\n",
        "  empty_list = []\n",
        "  for i in range(len(prediction_column)):\n",
        "    if abs(prediction_column[i] - truth_column[i]) < 3000:\n",
        "      empty_list.append(1)\n",
        "\n",
        "    else: \n",
        "      empty_list.append(0)\n",
        "\n",
        "  return empty_list\n",
        "    \n",
        "\n",
        "accuracy_of_mlp = accuracy(predictions,y_test)\n",
        "\n",
        "sum(accuracy_of_mlp)/len(accuracy_of_mlp)\n",
        "\n",
        "\n",
        "\n"
      ],
      "execution_count": null,
      "outputs": [
        {
          "output_type": "execute_result",
          "data": {
            "text/plain": [
              "0.2513464991023339"
            ]
          },
          "metadata": {},
          "execution_count": 23
        }
      ]
    },
    {
      "cell_type": "code",
      "metadata": {
        "colab": {
          "base_uri": "https://localhost:8080/",
          "height": 296
        },
        "id": "vvnR7KK_5RqG",
        "outputId": "ab21b7b2-eaa7-4bb2-d5e3-fa403cc14d9d"
      },
      "source": [
        "##MLP regressor \n",
        "regr = MLPRegressor(random_state=1).fit(X_train, y_train)\n",
        "regression_pred = regr.predict(X_test)\n",
        "\n",
        "residuals2 = y_test-regression_pred \n",
        "plt.scatter(y_test,residuals2)\n",
        "plt.xlabel('Price of Car ')\n",
        "plt.ylabel('Residual')"
      ],
      "execution_count": null,
      "outputs": [
        {
          "output_type": "execute_result",
          "data": {
            "text/plain": [
              "Text(0, 0.5, 'Residual')"
            ]
          },
          "metadata": {},
          "execution_count": 24
        },
        {
          "output_type": "display_data",
          "data": {
            "text/plain": [
              "<Figure size 432x288 with 1 Axes>"
            ],
            "image/png": "[encoded data removed]"
          },
          "metadata": {
            "needs_background": "light"
          }
        }
      ]
    },
    {
      "cell_type": "code",
      "metadata": {
        "colab": {
          "base_uri": "https://localhost:8080/"
        },
        "id": "k2vVstJd6Qc5",
        "outputId": "07972e11-63be-4c1d-966e-e2cd9c7abca8"
      },
      "source": [
        "accuracy_of_reg = accuracy(y_test,regression_pred)\n",
        "sum(accuracy_of_reg)/len(accuracy_of_reg)"
      ],
      "execution_count": null,
      "outputs": [
        {
          "output_type": "execute_result",
          "data": {
            "text/plain": [
              "0.10412926391382406"
            ]
          },
          "metadata": {},
          "execution_count": 30
        }
      ]
    },
    {
      "cell_type": "code",
      "metadata": {
        "colab": {
          "base_uri": "https://localhost:8080/",
          "height": 296
        },
        "id": "ylxVH30KAZjJ",
        "outputId": "08d1a0c1-b453-45ad-d410-5e91e74d865b"
      },
      "source": [
        "##Random Forest\n",
        "random_forest = RandomForestRegressor(max_depth=100, random_state=0)\n",
        "random_forest.fit(X_train,y_train)\n",
        "forest_regress = random_forest.predict(X_test)\n",
        "\n",
        "residuals3 = y_test-forest_regress \n",
        "plt.scatter(y_test,residuals3)\n",
        "plt.xlabel('Price of Car ')\n",
        "plt.ylabel('Residual')"
      ],
      "execution_count": null,
      "outputs": [
        {
          "output_type": "execute_result",
          "data": {
            "text/plain": [
              "Text(0, 0.5, 'Residual')"
            ]
          },
          "metadata": {},
          "execution_count": 31
        },
        {
          "output_type": "display_data",
          "data": {
            "text/plain": [
              "<Figure size 432x288 with 1 Axes>"
            ],
            "image/png": "[encoded data removed]"
          },
          "metadata": {
            "needs_background": "light"
          }
        }
      ]
    },
    {
      "cell_type": "code",
      "metadata": {
        "colab": {
          "base_uri": "https://localhost:8080/"
        },
        "id": "ZQsZM616MAa6",
        "outputId": "7c23f476-b36e-40d3-a6f8-06fdd9261280"
      },
      "source": [
        "accuracy_of_forest = accuracy(y_test,forest_regress)\n",
        "sum(accuracy_of_forest)/len(accuracy_of_forest)"
      ],
      "execution_count": null,
      "outputs": [
        {
          "output_type": "execute_result",
          "data": {
            "text/plain": [
              "0.3985637342908438"
            ]
          },
          "metadata": {},
          "execution_count": 32
        }
      ]
    },
    {
      "cell_type": "code",
      "metadata": {
        "id": "DG4YQ8SVOb1M"
      },
      "source": [],
      "execution_count": null,
      "outputs": []
    },
    {
      "cell_type": "code",
      "metadata": {
        "colab": {
          "base_uri": "https://localhost:8080/",
          "height": 296
        },
        "id": "ofndX3-xPWv3",
        "outputId": "7753e1bc-143f-490b-97c5-fe3fb0b9d34c"
      },
      "source": [
        "##Nearest neighbor regressor \n",
        "neigh = KNeighborsRegressor(n_neighbors=1)\n",
        "neigh.fit(X_train, y_train)\n",
        "neighbor_pred = neigh.predict(X_test)\n",
        "\n",
        "\n",
        "residuals4 = y_test-neighbor_pred \n",
        "plt.scatter(y_test,residuals4)\n",
        "plt.xlabel('Price of Car ')\n",
        "plt.ylabel('Residual')\n"
      ],
      "execution_count": null,
      "outputs": [
        {
          "output_type": "execute_result",
          "data": {
            "text/plain": [
              "Text(0, 0.5, 'Residual')"
            ]
          },
          "metadata": {},
          "execution_count": 33
        },
        {
          "output_type": "display_data",
          "data": {
            "text/plain": [
              "<Figure size 432x288 with 1 Axes>"
            ],
            "image/png": "[encoded data removed]"
          },
          "metadata": {
            "needs_background": "light"
          }
        }
      ]
    },
    {
      "cell_type": "code",
      "metadata": {
        "colab": {
          "base_uri": "https://localhost:8080/"
        },
        "id": "5N6adYrUP_Ve",
        "outputId": "30d866e2-d339-4334-ab4f-3e0f8f79e022"
      },
      "source": [
        "accuracy_of_neigh = accuracy(y_test,neighbor_pred)\n",
        "sum(accuracy_of_neigh)/len(accuracy_of_neigh)"
      ],
      "execution_count": null,
      "outputs": [
        {
          "output_type": "execute_result",
          "data": {
            "text/plain": [
              "0.5152603231597845"
            ]
          },
          "metadata": {},
          "execution_count": 34
        }
      ]
    },
    {
      "cell_type": "code",
      "metadata": {
        "colab": {
          "base_uri": "https://localhost:8080/",
          "height": 296
        },
        "id": "QHaqaLHmRwHw",
        "outputId": "8a6875df-3794-4c7f-ef40-3862d83e8c8d"
      },
      "source": [
        "## Linear regression\n",
        "reg = LinearRegression().fit(X_train, y_train)\n",
        "reg_pred = reg.predict(X_test)\n",
        "residuals5 = y_test-reg_pred \n",
        "plt.scatter(y_test,residuals5)\n",
        "plt.xlabel('Price of Car ')\n",
        "plt.ylabel('Residual')"
      ],
      "execution_count": null,
      "outputs": [
        {
          "output_type": "execute_result",
          "data": {
            "text/plain": [
              "Text(0, 0.5, 'Residual')"
            ]
          },
          "metadata": {},
          "execution_count": 35
        },
        {
          "output_type": "display_data",
          "data": {
            "text/plain": [
              "<Figure size 432x288 with 1 Axes>"
            ],
            "image/png": "[encoded data removed]"
          },
          "metadata": {
            "needs_background": "light"
          }
        }
      ]
    },
    {
      "cell_type": "code",
      "metadata": {
        "colab": {
          "base_uri": "https://localhost:8080/"
        },
        "id": "kuq6cxLiSd3L",
        "outputId": "8be6fd00-96d9-47f5-82cf-82adedffb811"
      },
      "source": [
        "accuracy_of_reg = accuracy(y_test,reg_pred)\n",
        "sum(accuracy_of_reg)/len(accuracy_of_reg)"
      ],
      "execution_count": null,
      "outputs": [
        {
          "output_type": "execute_result",
          "data": {
            "text/plain": [
              "0.22621184919210055"
            ]
          },
          "metadata": {},
          "execution_count": 36
        }
      ]
    },
    {
      "cell_type": "code",
      "metadata": {
        "id": "YI-NsIc6SqWo",
        "colab": {
          "base_uri": "https://localhost:8080/"
        },
        "outputId": "3c9489ea-95b7-4de6-ad11-13cc6bc00f89"
      },
      "source": [
        "reg.coef_"
      ],
      "execution_count": null,
      "outputs": [
        {
          "output_type": "execute_result",
          "data": {
            "text/plain": [
              "array([ 6.19266890e+02, -5.06105396e-02, -1.15280619e+04, -6.19266890e+02,\n",
              "        1.33406856e-01])"
            ]
          },
          "metadata": {},
          "execution_count": 37
        }
      ]
    },
    {
      "cell_type": "code",
      "metadata": {
        "colab": {
          "base_uri": "https://localhost:8080/"
        },
        "id": "lsjnhUjlVCD5",
        "outputId": "5b35ca8f-0d32-45f7-fcd2-1d15defc19b4"
      },
      "source": [
        "X_train[\"car_age\"].corr(X_train[\"car_dist_per_year\"])"
      ],
      "execution_count": null,
      "outputs": [
        {
          "output_type": "execute_result",
          "data": {
            "text/plain": [
              "-0.20615693727288972"
            ]
          },
          "metadata": {},
          "execution_count": 38
        }
      ]
    },
    {
      "cell_type": "code",
      "metadata": {
        "colab": {
          "base_uri": "https://localhost:8080/",
          "height": 296
        },
        "id": "RyHV1qHeVDFa",
        "outputId": "47c283bd-9cda-41a6-d103-94ed7b61a4ee"
      },
      "source": [
        "X_train_regression = X_train.drop([\"car_dist_per_year\",\"year\"],axis=1)\n",
        "## Linear regression part 2 \n",
        "reg2 = LinearRegression().fit(X_train_regression, y_train)\n",
        "reg_pred2 = reg2.predict(X_test.drop([\"car_dist_per_year\",\"year\"],axis=1))\n",
        "residuals6 = y_test-reg_pred2 \n",
        "plt.scatter(y_test,residuals6)\n",
        "plt.xlabel('Price of Car ')\n",
        "plt.ylabel('Residual')\n"
      ],
      "execution_count": null,
      "outputs": [
        {
          "output_type": "execute_result",
          "data": {
            "text/plain": [
              "Text(0, 0.5, 'Residual')"
            ]
          },
          "metadata": {},
          "execution_count": 39
        },
        {
          "output_type": "display_data",
          "data": {
            "text/plain": [
              "<Figure size 432x288 with 1 Axes>"
            ],
            "image/png": "[encoded data removed]"
          },
          "metadata": {
            "needs_background": "light"
          }
        }
      ]
    },
    {
      "cell_type": "code",
      "metadata": {
        "colab": {
          "base_uri": "https://localhost:8080/"
        },
        "id": "S0N5NKL9VWwZ",
        "outputId": "d472673e-3c80-4fe8-d243-3b726e04c2f5"
      },
      "source": [
        "accuracy_of_reg2 = accuracy(y_test,reg_pred2)\n",
        "sum(accuracy_of_reg2)/len(accuracy_of_reg2)"
      ],
      "execution_count": null,
      "outputs": [
        {
          "output_type": "execute_result",
          "data": {
            "text/plain": [
              "0.21543985637342908"
            ]
          },
          "metadata": {},
          "execution_count": 40
        }
      ]
    },
    {
      "cell_type": "code",
      "metadata": {
        "colab": {
          "base_uri": "https://localhost:8080/",
          "height": 297
        },
        "id": "9SVthp7SWldd",
        "outputId": "1345dc38-8576-4c5e-fe09-d7819acbf447"
      },
      "source": [
        "## Ada boost regression \n",
        "\n",
        "ada_boost = AdaBoostRegressor(random_state=1)\n",
        "ada_boost.fit(X_train,y_train)\n",
        "ada_pred = ada_boost.predict(X_test)\n",
        "residuals7 = y_test-ada_pred \n",
        "plt.scatter(y_test,residuals7)\n",
        "plt.xlabel('Price of Car ')\n",
        "plt.ylabel('Residual')\n"
      ],
      "execution_count": null,
      "outputs": [
        {
          "output_type": "execute_result",
          "data": {
            "text/plain": [
              "Text(0, 0.5, 'Residual')"
            ]
          },
          "metadata": {},
          "execution_count": 41
        },
        {
          "output_type": "display_data",
          "data": {
            "text/plain": [
              "<Figure size 432x288 with 1 Axes>"
            ],
            "image/png": "[encoded data removed]"
          },
          "metadata": {
            "needs_background": "light"
          }
        }
      ]
    },
    {
      "cell_type": "code",
      "metadata": {
        "colab": {
          "base_uri": "https://localhost:8080/"
        },
        "id": "ba4mQCwIYB6J",
        "outputId": "19b8598e-71e6-4b2e-e3aa-bf6eda3c3799"
      },
      "source": [
        "accuracy_of_ada = accuracy(y_test,ada_pred)\n",
        "sum(accuracy_of_ada)/len(accuracy_of_ada)"
      ],
      "execution_count": null,
      "outputs": [
        {
          "output_type": "execute_result",
          "data": {
            "text/plain": [
              "0.2459605026929982"
            ]
          },
          "metadata": {},
          "execution_count": 42
        }
      ]
    },
    {
      "cell_type": "code",
      "metadata": {
        "colab": {
          "base_uri": "https://localhost:8080/",
          "height": 296
        },
        "id": "FITQP51iYWi8",
        "outputId": "58b4f516-575a-483c-9cc9-695a69caf19e"
      },
      "source": [
        "decision_tree_reg = DecisionTreeRegressor(random_state=0)\n",
        "decision_tree_reg.fit(X_train,y_train)\n",
        "prediction_tree = decision_tree_reg.predict(X_test)\n",
        "residuals8 = y_test-prediction_tree \n",
        "plt.scatter(y_test,residuals8)\n",
        "plt.xlabel('Price of Car ')\n",
        "plt.ylabel('Residual')"
      ],
      "execution_count": null,
      "outputs": [
        {
          "output_type": "execute_result",
          "data": {
            "text/plain": [
              "Text(0, 0.5, 'Residual')"
            ]
          },
          "metadata": {},
          "execution_count": 43
        },
        {
          "output_type": "display_data",
          "data": {
            "text/plain": [
              "<Figure size 432x288 with 1 Axes>"
            ],
            "image/png": "[encoded data removed]"
          },
          "metadata": {
            "needs_background": "light"
          }
        }
      ]
    },
    {
      "cell_type": "code",
      "metadata": {
        "colab": {
          "base_uri": "https://localhost:8080/"
        },
        "id": "JF7ziBCdY7l1",
        "outputId": "3d1182d2-d521-4d23-f422-453f45881e41"
      },
      "source": [
        "accuracy_of_tree = accuracy(y_test,prediction_tree)\n",
        "sum(accuracy_of_tree)/len(accuracy_of_tree)"
      ],
      "execution_count": null,
      "outputs": [
        {
          "output_type": "execute_result",
          "data": {
            "text/plain": [
              "0.518850987432675"
            ]
          },
          "metadata": {},
          "execution_count": 44
        }
      ]
    },
    {
      "cell_type": "code",
      "metadata": {
        "id": "wYwUlu55ZA4G"
      },
      "source": [
        "## Doing one hot encode for city and brand of car \n",
        "\n"
      ],
      "execution_count": null,
      "outputs": []
    },
    {
      "cell_type": "code",
      "metadata": {
        "colab": {
          "base_uri": "https://localhost:8080/"
        },
        "id": "Vc4yTKxQa7m_",
        "outputId": "41e59711-b58b-46f4-e942-f6daa332576b"
      },
      "source": [
        "cities = df[[\"city\"]]\n",
        "enc = preprocessing.OneHotEncoder()\n",
        "enc.fit(cities)\n",
        "onehotcolumns_city = enc.transform(cities).toarray()\n",
        "onehotcolumns_city"
      ],
      "execution_count": null,
      "outputs": [
        {
          "output_type": "execute_result",
          "data": {
            "text/plain": [
              "array([[0., 0., 0., ..., 0., 0., 0.],\n",
              "       [0., 0., 0., ..., 0., 0., 0.],\n",
              "       [0., 0., 0., ..., 0., 0., 1.],\n",
              "       ...,\n",
              "       [0., 0., 0., ..., 0., 1., 0.],\n",
              "       [0., 0., 0., ..., 0., 1., 0.],\n",
              "       [0., 0., 0., ..., 0., 1., 0.]])"
            ]
          },
          "metadata": {},
          "execution_count": 45
        }
      ]
    },
    {
      "cell_type": "code",
      "metadata": {
        "colab": {
          "base_uri": "https://localhost:8080/"
        },
        "id": "egcCaG1eklLc",
        "outputId": "0120db7f-bf60-46f2-cc40-ec97eda997df"
      },
      "source": [
        "list_of_cities = ['Mumbai', 'Thane', 'Dehradun', 'Navi Mumbai', 'Delhi', 'Noida', 'Ghaziabad', 'Panchkula', 'Faridabad', 'Agra', 'Lucknow','Bangalore', 'Hyderabad', 'Chennai', 'Pune']\n",
        "\n",
        "list_of_cities = sorted(list_of_cities, key=str.lower)\n",
        "\n",
        "print(list_of_cities)"
      ],
      "execution_count": null,
      "outputs": [
        {
          "output_type": "stream",
          "name": "stdout",
          "text": [
            "['Agra', 'Bangalore', 'Chennai', 'Dehradun', 'Delhi', 'Faridabad', 'Ghaziabad', 'Hyderabad', 'Lucknow', 'Mumbai', 'Navi Mumbai', 'Noida', 'Panchkula', 'Pune', 'Thane']\n"
          ]
        }
      ]
    },
    {
      "cell_type": "code",
      "metadata": {
        "colab": {
          "base_uri": "https://localhost:8080/"
        },
        "id": "QW5fKeo7oA73",
        "outputId": "d377b321-66ef-4f62-eb66-c7d8f7fa7536"
      },
      "source": [
        "brand1 = df[[\"brand\"]]\n",
        "enc2 = preprocessing.OneHotEncoder()\n",
        "enc2.fit(brand1)\n",
        "onehotcolumns_brand = enc2.transform(brand1).toarray()\n",
        "onehotcolumns_brand"
      ],
      "execution_count": null,
      "outputs": [
        {
          "output_type": "execute_result",
          "data": {
            "text/plain": [
              "array([[0., 0., 0., ..., 0., 0., 0.],\n",
              "       [0., 0., 0., ..., 0., 0., 0.],\n",
              "       [0., 0., 0., ..., 1., 0., 0.],\n",
              "       ...,\n",
              "       [0., 0., 0., ..., 0., 0., 0.],\n",
              "       [0., 0., 0., ..., 0., 0., 0.],\n",
              "       [0., 0., 0., ..., 0., 0., 0.]])"
            ]
          },
          "metadata": {},
          "execution_count": 57
        }
      ]
    },
    {
      "cell_type": "code",
      "metadata": {
        "colab": {
          "base_uri": "https://localhost:8080/"
        },
        "id": "gk3XJqcqpPm6",
        "outputId": "d6e85a17-f968-493a-953c-a977c4865f2b"
      },
      "source": [
        "list_of_brands = ['Honda', 'Nissan', 'Toyota', 'Mercedes-Benz', 'Hyundai',\n",
        "       'Maruti Suzuki', 'Renault', 'Volkswagen', 'Skoda', 'BMW', 'Tata',\n",
        "       'Audi', 'Bentley', 'Ford', 'Mahindra', 'Jaguar', 'Lamborghini',\n",
        "       'MINI', 'Land Rover', 'Chevrolet', 'Datsun', 'Jeep', 'Porsche',\n",
        "       'Volvo', 'MG', 'Lexus', 'Mitsubishi', 'Kia', 'Fiat', 'Isuzu',\n",
        "       'Mahindra-Renault']\n",
        "\n",
        "list_of_brands = sorted(list_of_brands, key=str.lower)\n",
        "\n",
        "print(list_of_brands)"
      ],
      "execution_count": null,
      "outputs": [
        {
          "output_type": "stream",
          "name": "stdout",
          "text": [
            "['Audi', 'Bentley', 'BMW', 'Chevrolet', 'Datsun', 'Fiat', 'Ford', 'Honda', 'Hyundai', 'Isuzu', 'Jaguar', 'Jeep', 'Kia', 'Lamborghini', 'Land Rover', 'Lexus', 'Mahindra', 'Mahindra-Renault', 'Maruti Suzuki', 'Mercedes-Benz', 'MG', 'MINI', 'Mitsubishi', 'Nissan', 'Porsche', 'Renault', 'Skoda', 'Tata', 'Toyota', 'Volkswagen', 'Volvo']\n"
          ]
        }
      ]
    },
    {
      "cell_type": "code",
      "metadata": {
        "colab": {
          "base_uri": "https://localhost:8080/"
        },
        "id": "CLKIR0Rlq1Bf",
        "outputId": "e13c69ec-626f-4fa5-d007-2c29f8589ba9"
      },
      "source": [
        "model_name = df[[\"model_name\"]]\n",
        "enc3 = preprocessing.OneHotEncoder()\n",
        "enc3.fit(model_name)\n",
        "onehotcolumns_model = enc3.transform(model_name).toarray()\n",
        "onehotcolumns_model"
      ],
      "execution_count": null,
      "outputs": [
        {
          "output_type": "execute_result",
          "data": {
            "text/plain": [
              "array([[0., 0., 0., ..., 0., 0., 0.],\n",
              "       [0., 0., 0., ..., 0., 0., 0.],\n",
              "       [0., 0., 0., ..., 0., 0., 0.],\n",
              "       ...,\n",
              "       [0., 0., 0., ..., 0., 0., 0.],\n",
              "       [0., 0., 0., ..., 0., 0., 0.],\n",
              "       [0., 0., 0., ..., 0., 0., 0.]])"
            ]
          },
          "metadata": {},
          "execution_count": 59
        }
      ]
    },
    {
      "cell_type": "code",
      "metadata": {
        "colab": {
          "base_uri": "https://localhost:8080/"
        },
        "id": "z1HEvGDorT9K",
        "outputId": "6b28362d-d7de-46b5-c9cd-b02f1184747e"
      },
      "source": [
        "list_of_models = ['Brio', 'Sunny', 'Fortuner', 'E-Class', 'Verna', 'i20', 'Glanza',\n",
        "       'GLE', 'Grand', 'Swift', 'Xcent', 'Innova', 'Baleno', 'Pulse',\n",
        "       'Corolla', 'Polo', 'WR-V', 'Ritz', 'Rapid', 'City', 'Celerio', '3',\n",
        "       'Vento', 'Jazz', 'Nano', 'GLA', 'A-Star', 'Q5', 'X1', 'Z4', 'A3',\n",
        "       'A4', 'X3', 'Continental', 'Q3', 'Q7', 'A6', '7', 'Endeavour',\n",
        "       'XUV500', 'F-Pace', 'XE', 'Gallardo', 'Countryman', 'C-Class',\n",
        "       'Evoque', 'S-Class', 'Lodgy', 'CLA', 'Creta', 'A8', 'B-Class',\n",
        "       'A-Class', '5', 'Cooper', 'Terrano', 'CR-V', 'Freelander', 'Ciaz',\n",
        "       'Beat', 'KUV100', 'Duster', 'redi-GO', 'Tiago', 'Altroz', 'TUV300',\n",
        "       'Vitara', 'Etios', 'Figo', 'Civic', 'Compass', 'Elite', 'Bolero',\n",
        "       'SX4', 'Cayenne', 'V40', 'Superb', 'Dzire', 'i10', 'Zest', 'BR-V',\n",
        "       'S-Cross', 'Elantra', 'Discovery', 'Accord', 'Scorpio', 'X5',\n",
        "       'Estilo', 'XF', 'Santro', '6', 'GO', 'Passat', 'Wagon', 'Jetta',\n",
        "       'Safari', 'EcoSport', 'Kwid', 'Hector', 'Mustang', 'SLK', 'X7',\n",
        "       '718', 'Aria', '3.0', 'Land', 'GLC', 'NX', 'Thar', 'ES', 'GLS',\n",
        "       'Ertiga', 'Ameo', 'Sport', 'Harrier', 'Outlander', 'Seltos',\n",
        "       'Amaze', 'Octavia', 'M-Class', 'GL', 'XUV300', 'Avventura',\n",
        "       'Micra', 'Eeco', 'Eon', 'Fluidic', 'Alto', 'Cross', 'Yaris',\n",
        "       'Triber', 'Nexon', 'Tigor', 'Aspire', 'Venue', 'Freestyle', '4.4',\n",
        "       'XL6', 'Qualis', 'Enjoy', 'Verito', 'S60', 'XC90', 'G-Class',\n",
        "       'MU-X', 'Tiguan', 'Sonet', 'XJ', 'S90', 'Tucson', 'Indica',\n",
        "       'Laura', 'Hexa', 'Captur', 'Yeti', 'Quanto', 'Camry', 'XC60',\n",
        "       'Fiesta', 'CLS', 'X4', 'Ignis', 'Alturas', 'Abarth', 'Fabia',\n",
        "       'Pajero', 'Cruze', 'Logan', 'Jeep']\n",
        "\n",
        "list_of_models = sorted(list_of_models, key=str.lower)\n",
        "\n",
        "print(list_of_models)"
      ],
      "execution_count": null,
      "outputs": [
        {
          "output_type": "stream",
          "name": "stdout",
          "text": [
            "['3', '3.0', '4.4', '5', '6', '7', '718', 'A-Class', 'A-Star', 'A3', 'A4', 'A6', 'A8', 'Abarth', 'Accord', 'Alto', 'Altroz', 'Alturas', 'Amaze', 'Ameo', 'Aria', 'Aspire', 'Avventura', 'B-Class', 'Baleno', 'Beat', 'Bolero', 'BR-V', 'Brio', 'C-Class', 'Camry', 'Captur', 'Cayenne', 'Celerio', 'Ciaz', 'City', 'Civic', 'CLA', 'CLS', 'Compass', 'Continental', 'Cooper', 'Corolla', 'Countryman', 'CR-V', 'Creta', 'Cross', 'Cruze', 'Discovery', 'Duster', 'Dzire', 'E-Class', 'EcoSport', 'Eeco', 'Elantra', 'Elite', 'Endeavour', 'Enjoy', 'Eon', 'Ertiga', 'ES', 'Estilo', 'Etios', 'Evoque', 'F-Pace', 'Fabia', 'Fiesta', 'Figo', 'Fluidic', 'Fortuner', 'Freelander', 'Freestyle', 'G-Class', 'Gallardo', 'GL', 'GLA', 'Glanza', 'GLC', 'GLE', 'GLS', 'GO', 'Grand', 'Harrier', 'Hector', 'Hexa', 'i10', 'i20', 'Ignis', 'Indica', 'Innova', 'Jazz', 'Jeep', 'Jetta', 'KUV100', 'Kwid', 'Land', 'Laura', 'Lodgy', 'Logan', 'M-Class', 'Micra', 'MU-X', 'Mustang', 'Nano', 'Nexon', 'NX', 'Octavia', 'Outlander', 'Pajero', 'Passat', 'Polo', 'Pulse', 'Q3', 'Q5', 'Q7', 'Qualis', 'Quanto', 'Rapid', 'redi-GO', 'Ritz', 'S-Class', 'S-Cross', 'S60', 'S90', 'Safari', 'Santro', 'Scorpio', 'Seltos', 'SLK', 'Sonet', 'Sport', 'Sunny', 'Superb', 'Swift', 'SX4', 'Terrano', 'Thar', 'Tiago', 'Tigor', 'Tiguan', 'Triber', 'Tucson', 'TUV300', 'V40', 'Vento', 'Venue', 'Verito', 'Verna', 'Vitara', 'Wagon', 'WR-V', 'X1', 'X3', 'X4', 'X5', 'X7', 'XC60', 'XC90', 'Xcent', 'XE', 'XF', 'XJ', 'XL6', 'XUV300', 'XUV500', 'Yaris', 'Yeti', 'Z4', 'Zest']\n"
          ]
        }
      ]
    },
    {
      "cell_type": "code",
      "metadata": {
        "colab": {
          "base_uri": "https://localhost:8080/"
        },
        "id": "fjoqb1S7rVzG",
        "outputId": "e17e7781-6383-4764-c8b1-328d14e0e132"
      },
      "source": [
        "df[\"model_name\"].unique()"
      ],
      "execution_count": null,
      "outputs": [
        {
          "output_type": "execute_result",
          "data": {
            "text/plain": [
              "array(['Brio', 'Sunny', 'Fortuner', 'E-Class', 'Verna', 'i20', 'Glanza',\n",
              "       'GLE', 'Grand', 'Swift', 'Xcent', 'Innova', 'Baleno', 'Pulse',\n",
              "       'Corolla', 'Polo', 'WR-V', 'Ritz', 'Rapid', 'City', 'Celerio', '3',\n",
              "       'Vento', 'Jazz', 'Nano', 'GLA', 'A-Star', 'Q5', 'X1', 'Z4', 'A3',\n",
              "       'A4', 'X3', 'Continental', 'Q3', 'Q7', 'A6', '7', 'Endeavour',\n",
              "       'XUV500', 'F-Pace', 'XE', 'Gallardo', 'Countryman', 'C-Class',\n",
              "       'Evoque', 'S-Class', 'Lodgy', 'CLA', 'Creta', 'A8', 'B-Class',\n",
              "       'A-Class', '5', 'Cooper', 'Terrano', 'CR-V', 'Freelander', 'Ciaz',\n",
              "       'Beat', 'KUV100', 'Duster', 'redi-GO', 'Tiago', 'Altroz', 'TUV300',\n",
              "       'Vitara', 'Etios', 'Figo', 'Civic', 'Compass', 'Elite', 'Bolero',\n",
              "       'SX4', 'Cayenne', 'V40', 'Superb', 'Dzire', 'i10', 'Zest', 'BR-V',\n",
              "       'S-Cross', 'Elantra', 'Discovery', 'Accord', 'Scorpio', 'X5',\n",
              "       'Estilo', 'XF', 'Santro', '6', 'GO', 'Passat', 'Wagon', 'Jetta',\n",
              "       'Safari', 'EcoSport', 'Kwid', 'Hector', 'Mustang', 'SLK', 'X7',\n",
              "       '718', 'Aria', '3.0', 'Land', 'GLC', 'NX', 'Thar', 'ES', 'GLS',\n",
              "       'Ertiga', 'Ameo', 'Sport', 'Harrier', 'Outlander', 'Seltos',\n",
              "       'Amaze', 'Octavia', 'M-Class', 'GL', 'XUV300', 'Avventura',\n",
              "       'Micra', 'Eeco', 'Eon', 'Fluidic', 'Alto', 'Cross', 'Yaris',\n",
              "       'Triber', 'Nexon', 'Tigor', 'Aspire', 'Venue', 'Freestyle', '4.4',\n",
              "       'XL6', 'Qualis', 'Enjoy', 'Verito', 'S60', 'XC90', 'G-Class',\n",
              "       'MU-X', 'Tiguan', 'Sonet', 'XJ', 'S90', 'Tucson', 'Indica',\n",
              "       'Laura', 'Hexa', 'Captur', 'Yeti', 'Quanto', 'Camry', 'XC60',\n",
              "       'Fiesta', 'CLS', 'X4', 'Ignis', 'Alturas', 'Abarth', 'Fabia',\n",
              "       'Pajero', 'Cruze', 'Logan', 'Jeep'], dtype=object)"
            ]
          },
          "metadata": {},
          "execution_count": 51
        }
      ]
    },
    {
      "cell_type": "code",
      "metadata": {
        "id": "3WDgnCwYgxcY"
      },
      "source": [
        "cities_encode = pd.DataFrame(onehotcolumns_city,columns=list_of_cities)\n",
        "\n",
        "\n",
        "\n",
        "X_train_new = X_train.copy()\n",
        "X_train_new = X_train_new.merge(cities_encode,left_index = True, right_index = True)\n",
        "X_test_new = X_test.copy()\n",
        "X_test_new = X_test_new.merge(cities_encode,left_index = True, right_index = True)\n",
        "\n"
      ],
      "execution_count": null,
      "outputs": []
    },
    {
      "cell_type": "code",
      "metadata": {
        "id": "bgLTjh5IpucV"
      },
      "source": [
        "brands_encode = pd.DataFrame(onehotcolumns_brand,columns=list_of_brands)\n",
        "\n",
        "\n",
        "\n",
        "X_train_new2 = X_train_new.copy()\n",
        "X_train_new2 = X_train_new.merge(brands_encode,left_index = True, right_index = True)\n",
        "X_test_new2 = X_test.copy()\n",
        "X_test_new2 = X_test_new.merge(brands_encode,left_index = True, right_index = True)"
      ],
      "execution_count": null,
      "outputs": []
    },
    {
      "cell_type": "code",
      "metadata": {
        "id": "dRQPOOx9roa3"
      },
      "source": [
        "model_encode = pd.DataFrame(onehotcolumns_model,columns=list_of_models)\n",
        "\n",
        "\n",
        "\n",
        "X_train_new3 = X_train_new2.copy()\n",
        "X_train_new3 = X_train_new2.merge(model_encode,left_index = True, right_index = True)\n",
        "X_test_new3 = X_test_new2.copy()\n",
        "X_test_new3 = X_test_new2.merge(model_encode,left_index = True, right_index = True)"
      ],
      "execution_count": null,
      "outputs": []
    },
    {
      "cell_type": "code",
      "metadata": {
        "colab": {
          "base_uri": "https://localhost:8080/",
          "height": 296
        },
        "id": "ncrwViPPg1os",
        "outputId": "45f8f5de-9218-4a66-f531-8a4619378c2c"
      },
      "source": [
        "decision_tree_reg3 = DecisionTreeRegressor(random_state=0)\n",
        "decision_tree_reg3.fit(X_train_new3,y_train)\n",
        "prediction_tree3 = decision_tree_reg3.predict(X_test_new3)\n",
        "residuals11 = y_test-prediction_tree3 \n",
        "plt.scatter(y_test,residuals11)\n",
        "plt.xlabel('Price of Car ')\n",
        "plt.ylabel('Residual')"
      ],
      "execution_count": null,
      "outputs": [
        {
          "output_type": "execute_result",
          "data": {
            "text/plain": [
              "Text(0, 0.5, 'Residual')"
            ]
          },
          "metadata": {},
          "execution_count": 63
        },
        {
          "output_type": "display_data",
          "data": {
            "text/plain": [
              "<Figure size 432x288 with 1 Axes>"
            ],
            "image/png": "[encoded data removed]"
          },
          "metadata": {
            "needs_background": "light"
          }
        }
      ]
    },
    {
      "cell_type": "code",
      "metadata": {
        "colab": {
          "base_uri": "https://localhost:8080/"
        },
        "id": "qXrSKWW-nU4Z",
        "outputId": "27599705-db44-41cc-e839-363e9abe4368"
      },
      "source": [
        "accuracy_of_tree4 = accuracy(y_test,prediction_tree3)\n",
        "sum(accuracy_of_tree4)/len(accuracy_of_tree4)"
      ],
      "execution_count": null,
      "outputs": [
        {
          "output_type": "execute_result",
          "data": {
            "text/plain": [
              "0.755834829443447"
            ]
          },
          "metadata": {},
          "execution_count": 78
        }
      ]
    },
    {
      "cell_type": "code",
      "metadata": {
        "id": "U47tsqJMi2Db"
      },
      "source": [
        "def fit_OLS_model(df, target_variable, explanatory_variables, intercept = False):\n",
        "    target = df[target_variable]\n",
        "    inputs = df[explanatory_variables]\n",
        "    if intercept:\n",
        "        inputs = sm.add_constant(inputs)\n",
        "    \n",
        "    fitted_model = sm.OLS(target, inputs).fit()\n",
        "    return(fitted_model)"
      ],
      "execution_count": null,
      "outputs": []
    },
    {
      "cell_type": "code",
      "metadata": {
        "colab": {
          "base_uri": "https://localhost:8080/",
          "height": 653
        },
        "id": "hZ_cmKJvmmTu",
        "outputId": "688818eb-95b0-4481-805c-118112f1dd2b"
      },
      "source": [
        "df"
      ],
      "execution_count": null,
      "outputs": [
        {
          "output_type": "execute_result",
          "data": {
            "text/plain": [
              "      Unnamed: 0    Id  year             brand  \\\n",
              "0              0     0  2016             Honda   \n",
              "1              1     1  2012            Nissan   \n",
              "2              2     2  2017            Toyota   \n",
              "3              3     3  2017     Mercedes-Benz   \n",
              "4              4     4  2012           Hyundai   \n",
              "...          ...   ...   ...               ...   \n",
              "1720        1720  1720  2015           Hyundai   \n",
              "1721        1721  1721  2011           Bentley   \n",
              "1722        1722  1722  2008  Mahindra-Renault   \n",
              "1723        1723  1723  1990          Mahindra   \n",
              "1724        1724  1724  2017           Hyundai   \n",
              "\n",
              "                                        full_model_name   model_name  \\\n",
              "0                                       Honda Brio S MT         Brio   \n",
              "1                                Nissan Sunny XV Diesel        Sunny   \n",
              "2                Toyota Fortuner 2.8 4x2 MT [2016-2020]     Fortuner   \n",
              "3     Mercedes-Benz E-Class E 220d Expression [2019-...      E-Class   \n",
              "4                     Hyundai Verna Fluidic 1.6 CRDi SX        Verna   \n",
              "...                                                 ...          ...   \n",
              "1720                                  Hyundai Eon Era +          Eon   \n",
              "1721                Bentley Continental Flying Spur W12  Continental   \n",
              "1722                 Mahindra-Renault Logan DLE 1.5 dci        Logan   \n",
              "1723                             Mahindra Jeep CJ 500 D         Jeep   \n",
              "1724                  Hyundai Creta SX Plus 1.6 AT CRDI        Creta   \n",
              "\n",
              "          price  distance_travelled(kms) fuel_type    city  ...  inv_car_dist  \\\n",
              "0       5673.77                   9680.0    Petrol  Mumbai  ...      0.000103   \n",
              "1       4338.76                 119120.0    Diesel  Mumbai  ...      0.000008   \n",
              "2      35377.60                  64593.0    Diesel   Thane  ...      0.000015   \n",
              "3      56003.40                  25000.0    Diesel  Mumbai  ...      0.000040   \n",
              "4       6341.27                  23800.0    Diesel  Mumbai  ...      0.000042   \n",
              "...         ...                      ...       ...     ...  ...           ...   \n",
              "1720    3871.51                  38000.0    Petrol    Pune  ...      0.000026   \n",
              "1721  100125.28                  36000.0    Petrol    Pune  ...      0.000028   \n",
              "1722    2469.76                 142522.0    Diesel    Pune  ...      0.000007   \n",
              "1723    4338.76                  18581.0    Diesel    Pune  ...      0.000054   \n",
              "1724   18623.30                  31028.0    Diesel    Pune  ...      0.000032   \n",
              "\n",
              "      inv_car_age  inv_brand  std_invprice  std_invdistance_travelled  \\\n",
              "0        0.200000   0.142857      0.143417                   0.035730   \n",
              "1        0.111111   0.090909      0.188859                   0.002496   \n",
              "2        0.250000   1.000000      0.019416                   0.004978   \n",
              "3        0.250000   0.500000      0.010692                   0.013563   \n",
              "4        0.111111   0.071429      0.127871                   0.014269   \n",
              "...           ...        ...           ...                        ...   \n",
              "1720     0.166667   0.071429      0.212168                   0.008771   \n",
              "1721     0.100000   0.022727      0.004099                   0.009283   \n",
              "1722     0.076923   0.041667      0.335011                   0.002014   \n",
              "1723     0.032258   0.041667      0.188859                   0.018402   \n",
              "1724     0.250000   0.071429      0.040724                   0.010842   \n",
              "\n",
              "      std_invrank   best_buy1  best_buy2  car_dist_per_year  fuel_map  \n",
              "0        0.132143  677.134239   0.000000        1936.000000         1  \n",
              "1        0.079545   37.501318   0.000000       13235.555556         0  \n",
              "2        1.000000   96.646020   0.000000       16148.250000         0  \n",
              "3        0.493750   71.604306  71.604306        6250.000000         0  \n",
              "4        0.059821  109.150857   0.000000        2644.444444         0  \n",
              "...           ...         ...        ...                ...       ...  \n",
              "1720     0.059821  111.327773   0.000000        6333.333333         1  \n",
              "1721     0.010511    0.399987   0.000000        3600.000000         1  \n",
              "1722     0.029687   20.026662   0.000000       10963.230769         0  \n",
              "1723     0.029687  103.172958   0.000000         599.387097         0  \n",
              "1724     0.059821   26.412891   0.000000        7757.000000         0  \n",
              "\n",
              "[1725 rows x 25 columns]"
            ],
            "text/html": [
              "\n",
              "  <div id=\"df-8758ef59-6152-4673-af8a-81d902ae8a49\">\n",
              "    <div class=\"colab-df-container\">\n",
              "      <div>\n",
              "<style scoped>\n",
              "    .dataframe tbody tr th:only-of-type {\n",
              "        vertical-align: middle;\n",
              "    }\n",
              "\n",
              "    .dataframe tbody tr th {\n",
              "        vertical-align: top;\n",
              "    }\n",
              "\n",
              "    .dataframe thead th {\n",
              "        text-align: right;\n",
              "    }\n",
              "</style>\n",
              "<table border=\"1\" class=\"dataframe\">\n",
              "  <thead>\n",
              "    <tr style=\"text-align: right;\">\n",
              "      <th></th>\n",
              "      <th>Unnamed: 0</th>\n",
              "      <th>Id</th>\n",
              "      <th>year</th>\n",
              "      <th>brand</th>\n",
              "      <th>full_model_name</th>\n",
              "      <th>model_name</th>\n",
              "      <th>price</th>\n",
              "      <th>distance_travelled(kms)</th>\n",
              "      <th>fuel_type</th>\n",
              "      <th>city</th>\n",
              "      <th>...</th>\n",
              "      <th>inv_car_dist</th>\n",
              "      <th>inv_car_age</th>\n",
              "      <th>inv_brand</th>\n",
              "      <th>std_invprice</th>\n",
              "      <th>std_invdistance_travelled</th>\n",
              "      <th>std_invrank</th>\n",
              "      <th>best_buy1</th>\n",
              "      <th>best_buy2</th>\n",
              "      <th>car_dist_per_year</th>\n",
              "      <th>fuel_map</th>\n",
              "    </tr>\n",
              "  </thead>\n",
              "  <tbody>\n",
              "    <tr>\n",
              "      <th>0</th>\n",
              "      <td>0</td>\n",
              "      <td>0</td>\n",
              "      <td>2016</td>\n",
              "      <td>Honda</td>\n",
              "      <td>Honda Brio S MT</td>\n",
              "      <td>Brio</td>\n",
              "      <td>5673.77</td>\n",
              "      <td>9680.0</td>\n",
              "      <td>Petrol</td>\n",
              "      <td>Mumbai</td>\n",
              "      <td>...</td>\n",
              "      <td>0.000103</td>\n",
              "      <td>0.200000</td>\n",
              "      <td>0.142857</td>\n",
              "      <td>0.143417</td>\n",
              "      <td>0.035730</td>\n",
              "      <td>0.132143</td>\n",
              "      <td>677.134239</td>\n",
              "      <td>0.000000</td>\n",
              "      <td>1936.000000</td>\n",
              "      <td>1</td>\n",
              "    </tr>\n",
              "    <tr>\n",
              "      <th>1</th>\n",
              "      <td>1</td>\n",
              "      <td>1</td>\n",
              "      <td>2012</td>\n",
              "      <td>Nissan</td>\n",
              "      <td>Nissan Sunny XV Diesel</td>\n",
              "      <td>Sunny</td>\n",
              "      <td>4338.76</td>\n",
              "      <td>119120.0</td>\n",
              "      <td>Diesel</td>\n",
              "      <td>Mumbai</td>\n",
              "      <td>...</td>\n",
              "      <td>0.000008</td>\n",
              "      <td>0.111111</td>\n",
              "      <td>0.090909</td>\n",
              "      <td>0.188859</td>\n",
              "      <td>0.002496</td>\n",
              "      <td>0.079545</td>\n",
              "      <td>37.501318</td>\n",
              "      <td>0.000000</td>\n",
              "      <td>13235.555556</td>\n",
              "      <td>0</td>\n",
              "    </tr>\n",
              "    <tr>\n",
              "      <th>2</th>\n",
              "      <td>2</td>\n",
              "      <td>2</td>\n",
              "      <td>2017</td>\n",
              "      <td>Toyota</td>\n",
              "      <td>Toyota Fortuner 2.8 4x2 MT [2016-2020]</td>\n",
              "      <td>Fortuner</td>\n",
              "      <td>35377.60</td>\n",
              "      <td>64593.0</td>\n",
              "      <td>Diesel</td>\n",
              "      <td>Thane</td>\n",
              "      <td>...</td>\n",
              "      <td>0.000015</td>\n",
              "      <td>0.250000</td>\n",
              "      <td>1.000000</td>\n",
              "      <td>0.019416</td>\n",
              "      <td>0.004978</td>\n",
              "      <td>1.000000</td>\n",
              "      <td>96.646020</td>\n",
              "      <td>0.000000</td>\n",
              "      <td>16148.250000</td>\n",
              "      <td>0</td>\n",
              "    </tr>\n",
              "    <tr>\n",
              "      <th>3</th>\n",
              "      <td>3</td>\n",
              "      <td>3</td>\n",
              "      <td>2017</td>\n",
              "      <td>Mercedes-Benz</td>\n",
              "      <td>Mercedes-Benz E-Class E 220d Expression [2019-...</td>\n",
              "      <td>E-Class</td>\n",
              "      <td>56003.40</td>\n",
              "      <td>25000.0</td>\n",
              "      <td>Diesel</td>\n",
              "      <td>Mumbai</td>\n",
              "      <td>...</td>\n",
              "      <td>0.000040</td>\n",
              "      <td>0.250000</td>\n",
              "      <td>0.500000</td>\n",
              "      <td>0.010692</td>\n",
              "      <td>0.013563</td>\n",
              "      <td>0.493750</td>\n",
              "      <td>71.604306</td>\n",
              "      <td>71.604306</td>\n",
              "      <td>6250.000000</td>\n",
              "      <td>0</td>\n",
              "    </tr>\n",
              "    <tr>\n",
              "      <th>4</th>\n",
              "      <td>4</td>\n",
              "      <td>4</td>\n",
              "      <td>2012</td>\n",
              "      <td>Hyundai</td>\n",
              "      <td>Hyundai Verna Fluidic 1.6 CRDi SX</td>\n",
              "      <td>Verna</td>\n",
              "      <td>6341.27</td>\n",
              "      <td>23800.0</td>\n",
              "      <td>Diesel</td>\n",
              "      <td>Mumbai</td>\n",
              "      <td>...</td>\n",
              "      <td>0.000042</td>\n",
              "      <td>0.111111</td>\n",
              "      <td>0.071429</td>\n",
              "      <td>0.127871</td>\n",
              "      <td>0.014269</td>\n",
              "      <td>0.059821</td>\n",
              "      <td>109.150857</td>\n",
              "      <td>0.000000</td>\n",
              "      <td>2644.444444</td>\n",
              "      <td>0</td>\n",
              "    </tr>\n",
              "    <tr>\n",
              "      <th>...</th>\n",
              "      <td>...</td>\n",
              "      <td>...</td>\n",
              "      <td>...</td>\n",
              "      <td>...</td>\n",
              "      <td>...</td>\n",
              "      <td>...</td>\n",
              "      <td>...</td>\n",
              "      <td>...</td>\n",
              "      <td>...</td>\n",
              "      <td>...</td>\n",
              "      <td>...</td>\n",
              "      <td>...</td>\n",
              "      <td>...</td>\n",
              "      <td>...</td>\n",
              "      <td>...</td>\n",
              "      <td>...</td>\n",
              "      <td>...</td>\n",
              "      <td>...</td>\n",
              "      <td>...</td>\n",
              "      <td>...</td>\n",
              "      <td>...</td>\n",
              "    </tr>\n",
              "    <tr>\n",
              "      <th>1720</th>\n",
              "      <td>1720</td>\n",
              "      <td>1720</td>\n",
              "      <td>2015</td>\n",
              "      <td>Hyundai</td>\n",
              "      <td>Hyundai Eon Era +</td>\n",
              "      <td>Eon</td>\n",
              "      <td>3871.51</td>\n",
              "      <td>38000.0</td>\n",
              "      <td>Petrol</td>\n",
              "      <td>Pune</td>\n",
              "      <td>...</td>\n",
              "      <td>0.000026</td>\n",
              "      <td>0.166667</td>\n",
              "      <td>0.071429</td>\n",
              "      <td>0.212168</td>\n",
              "      <td>0.008771</td>\n",
              "      <td>0.059821</td>\n",
              "      <td>111.327773</td>\n",
              "      <td>0.000000</td>\n",
              "      <td>6333.333333</td>\n",
              "      <td>1</td>\n",
              "    </tr>\n",
              "    <tr>\n",
              "      <th>1721</th>\n",
              "      <td>1721</td>\n",
              "      <td>1721</td>\n",
              "      <td>2011</td>\n",
              "      <td>Bentley</td>\n",
              "      <td>Bentley Continental Flying Spur W12</td>\n",
              "      <td>Continental</td>\n",
              "      <td>100125.28</td>\n",
              "      <td>36000.0</td>\n",
              "      <td>Petrol</td>\n",
              "      <td>Pune</td>\n",
              "      <td>...</td>\n",
              "      <td>0.000028</td>\n",
              "      <td>0.100000</td>\n",
              "      <td>0.022727</td>\n",
              "      <td>0.004099</td>\n",
              "      <td>0.009283</td>\n",
              "      <td>0.010511</td>\n",
              "      <td>0.399987</td>\n",
              "      <td>0.000000</td>\n",
              "      <td>3600.000000</td>\n",
              "      <td>1</td>\n",
              "    </tr>\n",
              "    <tr>\n",
              "      <th>1722</th>\n",
              "      <td>1722</td>\n",
              "      <td>1722</td>\n",
              "      <td>2008</td>\n",
              "      <td>Mahindra-Renault</td>\n",
              "      <td>Mahindra-Renault Logan DLE 1.5 dci</td>\n",
              "      <td>Logan</td>\n",
              "      <td>2469.76</td>\n",
              "      <td>142522.0</td>\n",
              "      <td>Diesel</td>\n",
              "      <td>Pune</td>\n",
              "      <td>...</td>\n",
              "      <td>0.000007</td>\n",
              "      <td>0.076923</td>\n",
              "      <td>0.041667</td>\n",
              "      <td>0.335011</td>\n",
              "      <td>0.002014</td>\n",
              "      <td>0.029687</td>\n",
              "      <td>20.026662</td>\n",
              "      <td>0.000000</td>\n",
              "      <td>10963.230769</td>\n",
              "      <td>0</td>\n",
              "    </tr>\n",
              "    <tr>\n",
              "      <th>1723</th>\n",
              "      <td>1723</td>\n",
              "      <td>1723</td>\n",
              "      <td>1990</td>\n",
              "      <td>Mahindra</td>\n",
              "      <td>Mahindra Jeep CJ 500 D</td>\n",
              "      <td>Jeep</td>\n",
              "      <td>4338.76</td>\n",
              "      <td>18581.0</td>\n",
              "      <td>Diesel</td>\n",
              "      <td>Pune</td>\n",
              "      <td>...</td>\n",
              "      <td>0.000054</td>\n",
              "      <td>0.032258</td>\n",
              "      <td>0.041667</td>\n",
              "      <td>0.188859</td>\n",
              "      <td>0.018402</td>\n",
              "      <td>0.029687</td>\n",
              "      <td>103.172958</td>\n",
              "      <td>0.000000</td>\n",
              "      <td>599.387097</td>\n",
              "      <td>0</td>\n",
              "    </tr>\n",
              "    <tr>\n",
              "      <th>1724</th>\n",
              "      <td>1724</td>\n",
              "      <td>1724</td>\n",
              "      <td>2017</td>\n",
              "      <td>Hyundai</td>\n",
              "      <td>Hyundai Creta SX Plus 1.6 AT CRDI</td>\n",
              "      <td>Creta</td>\n",
              "      <td>18623.30</td>\n",
              "      <td>31028.0</td>\n",
              "      <td>Diesel</td>\n",
              "      <td>Pune</td>\n",
              "      <td>...</td>\n",
              "      <td>0.000032</td>\n",
              "      <td>0.250000</td>\n",
              "      <td>0.071429</td>\n",
              "      <td>0.040724</td>\n",
              "      <td>0.010842</td>\n",
              "      <td>0.059821</td>\n",
              "      <td>26.412891</td>\n",
              "      <td>0.000000</td>\n",
              "      <td>7757.000000</td>\n",
              "      <td>0</td>\n",
              "    </tr>\n",
              "  </tbody>\n",
              "</table>\n",
              "<p>1725 rows × 25 columns</p>\n",
              "</div>\n",
              "      <button class=\"colab-df-convert\" onclick=\"convertToInteractive('df-8758ef59-6152-4673-af8a-81d902ae8a49')\"\n",
              "              title=\"Convert this dataframe to an interactive table.\"\n",
              "              style=\"display:none;\">\n",
              "        \n",
              "  <svg xmlns=\"http://www.w3.org/2000/svg\" height=\"24px\"viewBox=\"0 0 24 24\"\n",
              "       width=\"24px\">\n",
              "    <path d=\"M0 0h24v24H0V0z\" fill=\"none\"/>\n",
              "    <path d=\"M18.56 5.44l.94 2.06.94-2.06 2.06-.94-2.06-.94-.94-2.06-.94 2.06-2.06.94zm-11 1L8.5 8.5l.94-2.06 2.06-.94-2.06-.94L8.5 2.5l-.94 2.06-2.06.94zm10 10l.94 2.06.94-2.06 2.06-.94-2.06-.94-.94-2.06-.94 2.06-2.06.94z\"/><path d=\"M17.41 7.96l-1.37-1.37c-.4-.4-.92-.59-1.43-.59-.52 0-1.04.2-1.43.59L10.3 9.45l-7.72 7.72c-.78.78-.78 2.05 0 2.83L4 21.41c.39.39.9.59 1.41.59.51 0 1.02-.2 1.41-.59l7.78-7.78 2.81-2.81c.8-.78.8-2.07 0-2.86zM5.41 20L4 18.59l7.72-7.72 1.47 1.35L5.41 20z\"/>\n",
              "  </svg>\n",
              "      </button>\n",
              "      \n",
              "  <style>\n",
              "    .colab-df-container {\n",
              "      display:flex;\n",
              "      flex-wrap:wrap;\n",
              "      gap: 12px;\n",
              "    }\n",
              "\n",
              "    .colab-df-convert {\n",
              "      background-color: #E8F0FE;\n",
              "      border: none;\n",
              "      border-radius: 50%;\n",
              "      cursor: pointer;\n",
              "      display: none;\n",
              "      fill: #1967D2;\n",
              "      height: 32px;\n",
              "      padding: 0 0 0 0;\n",
              "      width: 32px;\n",
              "    }\n",
              "\n",
              "    .colab-df-convert:hover {\n",
              "      background-color: #E2EBFA;\n",
              "      box-shadow: 0px 1px 2px rgba(60, 64, 67, 0.3), 0px 1px 3px 1px rgba(60, 64, 67, 0.15);\n",
              "      fill: #174EA6;\n",
              "    }\n",
              "\n",
              "    [theme=dark] .colab-df-convert {\n",
              "      background-color: #3B4455;\n",
              "      fill: #D2E3FC;\n",
              "    }\n",
              "\n",
              "    [theme=dark] .colab-df-convert:hover {\n",
              "      background-color: #434B5C;\n",
              "      box-shadow: 0px 1px 3px 1px rgba(0, 0, 0, 0.15);\n",
              "      filter: drop-shadow(0px 1px 2px rgba(0, 0, 0, 0.3));\n",
              "      fill: #FFFFFF;\n",
              "    }\n",
              "  </style>\n",
              "\n",
              "      <script>\n",
              "        const buttonEl =\n",
              "          document.querySelector('#df-8758ef59-6152-4673-af8a-81d902ae8a49 button.colab-df-convert');\n",
              "        buttonEl.style.display =\n",
              "          google.colab.kernel.accessAllowed ? 'block' : 'none';\n",
              "\n",
              "        async function convertToInteractive(key) {\n",
              "          const element = document.querySelector('#df-8758ef59-6152-4673-af8a-81d902ae8a49');\n",
              "          const dataTable =\n",
              "            await google.colab.kernel.invokeFunction('convertToInteractive',\n",
              "                                                     [key], {});\n",
              "          if (!dataTable) return;\n",
              "\n",
              "          const docLinkHtml = 'Like what you see? Visit the ' +\n",
              "            '<a target=\"_blank\" href=https://colab.research.google.com/notebooks/data_table.ipynb>data table notebook</a>'\n",
              "            + ' to learn more about interactive tables.';\n",
              "          element.innerHTML = '';\n",
              "          dataTable['output_type'] = 'display_data';\n",
              "          await google.colab.output.renderOutput(dataTable, element);\n",
              "          const docLink = document.createElement('div');\n",
              "          docLink.innerHTML = docLinkHtml;\n",
              "          element.appendChild(docLink);\n",
              "        }\n",
              "      </script>\n",
              "    </div>\n",
              "  </div>\n",
              "  "
            ]
          },
          "metadata": {},
          "execution_count": 60
        }
      ]
    },
    {
      "cell_type": "code",
      "metadata": {
        "id": "LwBmYzaSqifa"
      },
      "source": [],
      "execution_count": null,
      "outputs": []
    }
  ]
}